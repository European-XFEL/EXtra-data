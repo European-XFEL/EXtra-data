{
 "cells": [
  {
   "cell_type": "markdown",
   "metadata": {},
   "source": [
    "# Averaging detector data with Dask\n",
    "\n",
    "We often want to average large detector data across trains, keeping the pulses within each train separate, so we have an average image for pulse 0, another for pulse 1, etc.\n",
    "\n",
    "This data may be too big to load into memory at once, but using [Dask](https://dask.org/) we can work with it like a numpy array. Dask takes care of splitting the job up into smaller pieces and assembling the result."
   ]
  },
  {
   "cell_type": "code",
   "execution_count": null,
   "metadata": {},
   "outputs": [],
   "source": [
    "from karabo_data import open_run\n",
    "\n",
    "import dask.array as da\n",
    "from dask.distributed import Client, progress\n",
    "from dask_jobqueue import SLURMCluster\n",
    "import numpy as np"
   ]
  },
  {
   "cell_type": "markdown",
   "metadata": {},
   "source": [
    "First, we use [Dask-Jobqueue](https://jobqueue.dask.org/en/latest/) to talk to the Maxwell cluster."
   ]
  },
  {
   "cell_type": "code",
   "execution_count": null,
   "metadata": {},
   "outputs": [],
   "source": [
    "partition = 'exfel'  # For EuXFEL staff\n",
    "#partition = 'upex'   # For users\n",
    "\n",
    "cluster = SLURMCluster(\n",
    "    queue=partition,\n",
    "    # 16 Dask workers per job - our SLURM config gives every job its own node\n",
    "    processes=16, cores=16, memory='200GB',\n",
    ")\n",
    "\n",
    "# Get a notbook widget showing the cluster state\n",
    "cluster"
   ]
  },
  {
   "cell_type": "code",
   "execution_count": null,
   "metadata": {},
   "outputs": [],
   "source": [
    "# Submit 2 SLURM jobs, for 32 Dask workers\n",
    "cluster.scale(32)"
   ]
  },
  {
   "cell_type": "markdown",
   "metadata": {},
   "source": [
    "If the cluster is busy, you might need to wait a while for the jobs to start.\n",
    "The cluster widget above will update when they're running.\n",
    "\n",
    "Next, we'll set Dask up to use those workers:"
   ]
  },
  {
   "cell_type": "code",
   "execution_count": null,
   "metadata": {},
   "outputs": [],
   "source": [
    "client = Client(cluster)\n",
    "print(\"Created dask client:\", client)"
   ]
  },
  {
   "cell_type": "markdown",
   "metadata": {},
   "source": [
    "Now Dask is ready, let's open the run we're going to operate on:"
   ]
  },
  {
   "cell_type": "code",
   "execution_count": null,
   "metadata": {
    "scrolled": true
   },
   "outputs": [],
   "source": [
    "run = open_run(proposal=2212, run=103)\n",
    "run.info()"
   ]
  },
  {
   "cell_type": "markdown",
   "metadata": {},
   "source": [
    "We're working with data from the DSSC detector.\n",
    "In this run, it's recording 75 frames for each train:"
   ]
  },
  {
   "cell_type": "code",
   "execution_count": null,
   "metadata": {},
   "outputs": [],
   "source": [
    "counts = run.get_data_counts('SCS_DET_DSSC1M-1/DET/0CH0:xtdf', 'image.data')\n",
    "counts.unique()"
   ]
  },
  {
   "cell_type": "markdown",
   "metadata": {},
   "source": [
    "Now, we'll define how we're going to average over trains for each module:"
   ]
  },
  {
   "cell_type": "code",
   "execution_count": null,
   "metadata": {},
   "outputs": [],
   "source": [
    "def average_module(modno, run, pulses_per_train=75):\n",
    "    source = f'SCS_DET_DSSC1M-1/DET/{modno}CH0:xtdf'\n",
    "    counts = run.get_data_counts(source, 'image.data')\n",
    "    \n",
    "    arr = run.get_dask_array(source, 'image.data')\n",
    "    # Make a new dimension for trains\n",
    "    arr_trains = arr.reshape(-1, pulses_per_train, 128, 512)\n",
    "    if modno == 0:\n",
    "        print(\"array shape:\", arr.shape)  # frames, dummy, 128, 512\n",
    "        print(\"Reshaped to:\", arr_trains.shape)\n",
    "\n",
    "    return arr_trains.mean(axis=0, dtype=np.float32)"
   ]
  },
  {
   "cell_type": "code",
   "execution_count": null,
   "metadata": {},
   "outputs": [],
   "source": [
    "mod_averages = [\n",
    "    average_module(i, run, pulses_per_train=75)\n",
    "    for i in range(16)\n",
    "]\n",
    "\n",
    "mod_averages"
   ]
  },
  {
   "cell_type": "code",
   "execution_count": null,
   "metadata": {},
   "outputs": [],
   "source": [
    "# Stack the averages into a single array\n",
    "all_average = da.stack(mod_averages)\n",
    "all_average"
   ]
  },
  {
   "cell_type": "markdown",
   "metadata": {},
   "source": [
    "So far, no real computation has happened. Now that we've defined what we want, let's tell Dask to compute it.\n",
    "\n",
    "This will take a minute or two. If you're running it, scroll up to the Dask cluster widget and click the status link to see what it's doing."
   ]
  },
  {
   "cell_type": "code",
   "execution_count": null,
   "metadata": {},
   "outputs": [],
   "source": [
    "%%time\n",
    "all_average_arr = all_average.compute()  # Get a concrete numpy array for the result"
   ]
  },
  {
   "cell_type": "markdown",
   "metadata": {},
   "source": [
    "`all_average_arr` is a regular numpy array with our results. Here are the values from the corner of module 0, frame 0:"
   ]
  },
  {
   "cell_type": "code",
   "execution_count": null,
   "metadata": {},
   "outputs": [],
   "source": [
    "print(all_average_arr[0, 0, :5, :5])"
   ]
  },
  {
   "cell_type": "markdown",
   "metadata": {},
   "source": [
    "Please shut down the cluster (or scale it down to 0 workers) if you won't be using it for a while.\n",
    "This releases the resources for other people."
   ]
  },
  {
   "cell_type": "code",
   "execution_count": null,
   "metadata": {},
   "outputs": [],
   "source": [
    "client.close()\n",
    "cluster.close()"
   ]
  }
 ],
 "metadata": {
  "kernelspec": {
   "display_name": "Python 3",
   "language": "python",
   "name": "python3"
  },
  "language_info": {
   "codemirror_mode": {
    "name": "ipython",
    "version": 3
   },
   "file_extension": ".py",
   "mimetype": "text/x-python",
   "name": "python",
   "nbconvert_exporter": "python",
   "pygments_lexer": "ipython3",
   "version": "3.6.7"
  }
 },
 "nbformat": 4,
 "nbformat_minor": 2
}
