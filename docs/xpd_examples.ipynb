{
 "cells": [
  {
   "cell_type": "markdown",
   "metadata": {},
   "source": [
    "# Reading data to analyse in memory\n",
    "\n",
    "It's often quickest and easiest to load data into memory before analysing it.\n",
    "\n",
    "Some types of data, especially from large pixel detectors, may be bigger than the available memory.\n",
    "Other examples show how to work with very large amounts of data.\n",
    "But the [machines in the Maxwell cluster](https://confluence.desy.de/display/MXW/Hardware+in+exfel)\n",
    "have 250–750 GB of memory, so you can use the simple approach for many cases."
   ]
  },
  {
   "cell_type": "code",
   "execution_count": 1,
   "metadata": {},
   "outputs": [],
   "source": [
    "%matplotlib inline\n",
    "import matplotlib.pyplot as plt\n",
    "import numpy as np\n",
    "import re\n",
    "import xarray as xr\n",
    "\n",
    "from extra_data import open_run"
   ]
  },
  {
   "cell_type": "markdown",
   "metadata": {},
   "source": [
    "## Tabular data (with pandas)\n",
    "\n",
    "We can open a run with EXtra-data on the Maxwell cluster using the proposal & run number."
   ]
  },
  {
   "cell_type": "code",
   "execution_count": 2,
   "metadata": {},
   "outputs": [
    {
     "name": "stdout",
     "output_type": "stream",
     "text": [
      "# of trains:    3721\n",
      "Duration:       0:06:12.1\n",
      "First train ID: 142844490\n",
      "Last train ID:  142848210\n",
      "\n",
      "0 detector modules ()\n",
      "\n",
      "2 instrument sources (excluding detectors):\n",
      "  - SA1_XTD2_XGM/XGM/DOOCS:output\n",
      "  - SPB_XTD9_XGM/XGM/DOOCS:output\n",
      "\n",
      "2 control sources:\n",
      "  - SA1_XTD2_XGM/XGM/DOOCS\n",
      "  - SPB_XTD9_XGM/XGM/DOOCS\n",
      "\n"
     ]
    }
   ],
   "source": [
    "run = open_run(proposal=900025, run=150)\n",
    "run.info()  # Show overview info about this data"
   ]
  },
  {
   "cell_type": "markdown",
   "metadata": {},
   "source": [
    "This example works with data from two X-Ray Gas Monitors (XGMs).\n",
    "These measure properties of the X-ray beam in different parts of the tunnel.\n",
    "This data refers to one XGM in XTD2 and one in XTD9.\n",
    "\n",
    "[pandas](http://pandas.pydata.org/pandas-docs/stable/) is a popular Python library for working with tabular data.\n",
    "We'll create a pandas dataframe containing the beam x and y position at each XGM, and the photon flux.\n",
    "We can select the columns using 'glob' patterns, like selecting files in the terminal.\n",
    "\n",
    "* `[abc]`: one character, a/b/c\n",
    "* `?`: any one character\n",
    "* `*`: any sequence of characters"
   ]
  },
  {
   "cell_type": "code",
   "execution_count": 3,
   "metadata": {},
   "outputs": [
    {
     "data": {
      "text/html": [
       "<div>\n",
       "<style scoped>\n",
       "    .dataframe tbody tr th:only-of-type {\n",
       "        vertical-align: middle;\n",
       "    }\n",
       "\n",
       "    .dataframe tbody tr th {\n",
       "        vertical-align: top;\n",
       "    }\n",
       "\n",
       "    .dataframe thead th {\n",
       "        text-align: right;\n",
       "    }\n",
       "</style>\n",
       "<table border=\"1\" class=\"dataframe\">\n",
       "  <thead>\n",
       "    <tr style=\"text-align: right;\">\n",
       "      <th></th>\n",
       "      <th>SPB_XTD9_XGM/XGM/DOOCS/beamPosition.iyPos</th>\n",
       "      <th>SPB_XTD9_XGM/XGM/DOOCS/pulseEnergy.photonFlux</th>\n",
       "      <th>SPB_XTD9_XGM/XGM/DOOCS/beamPosition.ixPos</th>\n",
       "      <th>SA1_XTD2_XGM/XGM/DOOCS/beamPosition.iyPos</th>\n",
       "      <th>SA1_XTD2_XGM/XGM/DOOCS/pulseEnergy.photonFlux</th>\n",
       "      <th>SA1_XTD2_XGM/XGM/DOOCS/beamPosition.ixPos</th>\n",
       "    </tr>\n",
       "    <tr>\n",
       "      <th>trainId</th>\n",
       "      <th></th>\n",
       "      <th></th>\n",
       "      <th></th>\n",
       "      <th></th>\n",
       "      <th></th>\n",
       "      <th></th>\n",
       "    </tr>\n",
       "  </thead>\n",
       "  <tbody>\n",
       "    <tr>\n",
       "      <th>142844490</th>\n",
       "      <td>1.717195</td>\n",
       "      <td>1327.06958</td>\n",
       "      <td>-2.277912</td>\n",
       "      <td>0.161399</td>\n",
       "      <td>1410.723755</td>\n",
       "      <td>2.035218</td>\n",
       "    </tr>\n",
       "    <tr>\n",
       "      <th>142844491</th>\n",
       "      <td>1.717195</td>\n",
       "      <td>1327.06958</td>\n",
       "      <td>-2.277912</td>\n",
       "      <td>0.161399</td>\n",
       "      <td>1410.137451</td>\n",
       "      <td>2.035218</td>\n",
       "    </tr>\n",
       "    <tr>\n",
       "      <th>142844492</th>\n",
       "      <td>1.717195</td>\n",
       "      <td>1327.06958</td>\n",
       "      <td>-2.277912</td>\n",
       "      <td>0.161399</td>\n",
       "      <td>1410.137451</td>\n",
       "      <td>2.035218</td>\n",
       "    </tr>\n",
       "    <tr>\n",
       "      <th>142844493</th>\n",
       "      <td>1.717195</td>\n",
       "      <td>1327.06958</td>\n",
       "      <td>-2.277912</td>\n",
       "      <td>0.161399</td>\n",
       "      <td>1410.137451</td>\n",
       "      <td>2.035218</td>\n",
       "    </tr>\n",
       "    <tr>\n",
       "      <th>142844494</th>\n",
       "      <td>1.717195</td>\n",
       "      <td>1327.06958</td>\n",
       "      <td>-2.277912</td>\n",
       "      <td>0.161399</td>\n",
       "      <td>1410.137451</td>\n",
       "      <td>2.035218</td>\n",
       "    </tr>\n",
       "  </tbody>\n",
       "</table>\n",
       "</div>"
      ],
      "text/plain": [
       "           SPB_XTD9_XGM/XGM/DOOCS/beamPosition.iyPos  \\\n",
       "trainId                                                \n",
       "142844490                                   1.717195   \n",
       "142844491                                   1.717195   \n",
       "142844492                                   1.717195   \n",
       "142844493                                   1.717195   \n",
       "142844494                                   1.717195   \n",
       "\n",
       "           SPB_XTD9_XGM/XGM/DOOCS/pulseEnergy.photonFlux  \\\n",
       "trainId                                                    \n",
       "142844490                                     1327.06958   \n",
       "142844491                                     1327.06958   \n",
       "142844492                                     1327.06958   \n",
       "142844493                                     1327.06958   \n",
       "142844494                                     1327.06958   \n",
       "\n",
       "           SPB_XTD9_XGM/XGM/DOOCS/beamPosition.ixPos  \\\n",
       "trainId                                                \n",
       "142844490                                  -2.277912   \n",
       "142844491                                  -2.277912   \n",
       "142844492                                  -2.277912   \n",
       "142844493                                  -2.277912   \n",
       "142844494                                  -2.277912   \n",
       "\n",
       "           SA1_XTD2_XGM/XGM/DOOCS/beamPosition.iyPos  \\\n",
       "trainId                                                \n",
       "142844490                                   0.161399   \n",
       "142844491                                   0.161399   \n",
       "142844492                                   0.161399   \n",
       "142844493                                   0.161399   \n",
       "142844494                                   0.161399   \n",
       "\n",
       "           SA1_XTD2_XGM/XGM/DOOCS/pulseEnergy.photonFlux  \\\n",
       "trainId                                                    \n",
       "142844490                                    1410.723755   \n",
       "142844491                                    1410.137451   \n",
       "142844492                                    1410.137451   \n",
       "142844493                                    1410.137451   \n",
       "142844494                                    1410.137451   \n",
       "\n",
       "           SA1_XTD2_XGM/XGM/DOOCS/beamPosition.ixPos  \n",
       "trainId                                               \n",
       "142844490                                   2.035218  \n",
       "142844491                                   2.035218  \n",
       "142844492                                   2.035218  \n",
       "142844493                                   2.035218  \n",
       "142844494                                   2.035218  "
      ]
     },
     "execution_count": 3,
     "metadata": {},
     "output_type": "execute_result"
    }
   ],
   "source": [
    "df = run.select([(\"*_XGM/*\", \"*.i[xy]Pos\"), (\"*_XGM/*\", \"*.photonFlux\")]).get_dataframe()\n",
    "df.head()"
   ]
  },
  {
   "cell_type": "markdown",
   "metadata": {},
   "source": [
    "We can now make plots to compare the parameters at the two XGM positions.\n",
    "As expected, there's a strong correlation for each parameter."
   ]
  },
  {
   "cell_type": "code",
   "execution_count": 4,
   "metadata": {
    "scrolled": true
   },
   "outputs": [
    {
     "data": {
      "text/plain": [
       "<matplotlib.axes._subplots.AxesSubplot at 0x2ba7e87f8fd0>"
      ]
     },
     "execution_count": 4,
     "metadata": {},
     "output_type": "execute_result"
    },
    {
     "data": {
      "image/png": "[encoded data removed]",
      "text/plain": [
       "<Figure size 432x288 with 1 Axes>"
      ]
     },
     "metadata": {
      "needs_background": "light"
     },
     "output_type": "display_data"
    }
   ],
   "source": [
    "df.plot.scatter(\n",
    "    x='SA1_XTD2_XGM/XGM/DOOCS/pulseEnergy.photonFlux',\n",
    "    y='SPB_XTD9_XGM/XGM/DOOCS/pulseEnergy.photonFlux',\n",
    ")"
   ]
  },
  {
   "cell_type": "code",
   "execution_count": 5,
   "metadata": {},
   "outputs": [
    {
     "data": {
      "image/png": "[encoded data removed]",
      "text/plain": [
       "<Figure size 432x288 with 1 Axes>"
      ]
     },
     "metadata": {
      "needs_background": "light"
     },
     "output_type": "display_data"
    }
   ],
   "source": [
    "ax = df.plot.scatter(\n",
    "    x='SA1_XTD2_XGM/XGM/DOOCS/beamPosition.ixPos',\n",
    "    y='SPB_XTD9_XGM/XGM/DOOCS/beamPosition.ixPos',\n",
    ")"
   ]
  },
  {
   "cell_type": "code",
   "execution_count": 6,
   "metadata": {},
   "outputs": [
    {
     "data": {
      "image/png": "[encoded data removed]",
      "text/plain": [
       "<Figure size 432x288 with 1 Axes>"
      ]
     },
     "metadata": {
      "needs_background": "light"
     },
     "output_type": "display_data"
    }
   ],
   "source": [
    "ay = df.plot.scatter(\n",
    "    x='SA1_XTD2_XGM/XGM/DOOCS/beamPosition.iyPos',\n",
    "    y='SPB_XTD9_XGM/XGM/DOOCS/beamPosition.iyPos',\n",
    ")"
   ]
  },
  {
   "cell_type": "markdown",
   "metadata": {},
   "source": [
    "We can also export the dataframe to a CSV file - or [any other format pandas supports](http://pandas.pydata.org/pandas-docs/stable/io.html) - for further analysis with other tools."
   ]
  },
  {
   "cell_type": "code",
   "execution_count": 7,
   "metadata": {},
   "outputs": [],
   "source": [
    "df.to_csv('xtd2_xtd9_xgm_r150.csv')"
   ]
  },
  {
   "cell_type": "markdown",
   "metadata": {},
   "source": [
    "## As arrays (with xarray)"
   ]
  },
  {
   "cell_type": "markdown",
   "metadata": {},
   "source": [
    "We'll open a different run for this example:"
   ]
  },
  {
   "cell_type": "code",
   "execution_count": 8,
   "metadata": {},
   "outputs": [
    {
     "name": "stdout",
     "output_type": "stream",
     "text": [
      "# of trains:    1475\n",
      "Duration:       0:02:27.5\n",
      "First train ID: 128146446\n",
      "Last train ID:  128147920\n",
      "\n",
      "0 detector modules ()\n",
      "\n",
      "1 instrument sources (excluding detectors):\n",
      "  - SA3_XTD10_PES/ADC/1:network\n",
      "\n",
      "11 control sources:\n",
      "  - SA3_XTD10_PES/ADC/1\n",
      "  - SA3_XTD10_PES/ASENS/MAGN_X\n",
      "  - SA3_XTD10_PES/ASENS/MAGN_Y\n",
      "  - SA3_XTD10_PES/ASENS/MAGN_Z\n",
      "  - SA3_XTD10_PES/DCTRL/V30300S_NITROGEN\n",
      "  - SA3_XTD10_PES/DCTRL/V30310S_NEON\n",
      "  - SA3_XTD10_PES/DCTRL/V30320S_KRYPTON\n",
      "  - SA3_XTD10_PES/DCTRL/V30330S_XENON\n",
      "  - SA3_XTD10_PES/GAUGE/G30300F\n",
      "  - SA3_XTD10_PES/GAUGE/G30310F\n",
      "  - SA3_XTD10_PES/MCPS/MPOD\n",
      "\n"
     ]
    }
   ],
   "source": [
    "run = open_run(proposal=900027, run=67)\n",
    "run.info()  # Show overview info about the data"
   ]
  },
  {
   "cell_type": "markdown",
   "metadata": {},
   "source": [
    "This run includes data from a Photo-Electron Spectrometer (PES),\n",
    "a monitoring device which records energy spectra for each train.\n",
    "Here's the data from one of its 16 spectrometers:"
   ]
  },
  {
   "cell_type": "code",
   "execution_count": 9,
   "metadata": {},
   "outputs": [
    {
     "data": {
      "text/html": [
       "<div><svg style=\"position: absolute; width: 0; height: 0; overflow: hidden\">\n",
       "<defs>\n",
       "<symbol id=\"icon-database\" viewBox=\"0 0 32 32\">\n",
       "<path d=\"M16 0c-8.837 0-16 2.239-16 5v4c0 2.761 7.163 5 16 5s16-2.239 16-5v-4c0-2.761-7.163-5-16-5z\"></path>\n",
       "<path d=\"M16 17c-8.837 0-16-2.239-16-5v6c0 2.761 7.163 5 16 5s16-2.239 16-5v-6c0 2.761-7.163 5-16 5z\"></path>\n",
       "<path d=\"M16 26c-8.837 0-16-2.239-16-5v6c0 2.761 7.163 5 16 5s16-2.239 16-5v-6c0 2.761-7.163 5-16 5z\"></path>\n",
       "</symbol>\n",
       "<symbol id=\"icon-file-text2\" viewBox=\"0 0 32 32\">\n",
       "<path d=\"M28.681 7.159c-0.694-0.947-1.662-2.053-2.724-3.116s-2.169-2.030-3.116-2.724c-1.612-1.182-2.393-1.319-2.841-1.319h-15.5c-1.378 0-2.5 1.121-2.5 2.5v27c0 1.378 1.122 2.5 2.5 2.5h23c1.378 0 2.5-1.122 2.5-2.5v-19.5c0-0.448-0.137-1.23-1.319-2.841zM24.543 5.457c0.959 0.959 1.712 1.825 2.268 2.543h-4.811v-4.811c0.718 0.556 1.584 1.309 2.543 2.268zM28 29.5c0 0.271-0.229 0.5-0.5 0.5h-23c-0.271 0-0.5-0.229-0.5-0.5v-27c0-0.271 0.229-0.5 0.5-0.5 0 0 15.499-0 15.5 0v7c0 0.552 0.448 1 1 1h7v19.5z\"></path>\n",
       "<path d=\"M23 26h-14c-0.552 0-1-0.448-1-1s0.448-1 1-1h14c0.552 0 1 0.448 1 1s-0.448 1-1 1z\"></path>\n",
       "<path d=\"M23 22h-14c-0.552 0-1-0.448-1-1s0.448-1 1-1h14c0.552 0 1 0.448 1 1s-0.448 1-1 1z\"></path>\n",
       "<path d=\"M23 18h-14c-0.552 0-1-0.448-1-1s0.448-1 1-1h14c0.552 0 1 0.448 1 1s-0.448 1-1 1z\"></path>\n",
       "</symbol>\n",
       "</defs>\n",
       "</svg>\n",
       "<style>/* CSS stylesheet for displaying xarray objects in jupyterlab.\n",
       " *\n",
       " */\n",
       "\n",
       ":root {\n",
       "  --xr-font-color0: var(--jp-content-font-color0, rgba(0, 0, 0, 1));\n",
       "  --xr-font-color2: var(--jp-content-font-color2, rgba(0, 0, 0, 0.54));\n",
       "  --xr-font-color3: var(--jp-content-font-color3, rgba(0, 0, 0, 0.38));\n",
       "  --xr-border-color: var(--jp-border-color2, #e0e0e0);\n",
       "  --xr-disabled-color: var(--jp-layout-color3, #bdbdbd);\n",
       "  --xr-background-color: var(--jp-layout-color0, white);\n",
       "  --xr-background-color-row-even: var(--jp-layout-color1, white);\n",
       "  --xr-background-color-row-odd: var(--jp-layout-color2, #eeeeee);\n",
       "}\n",
       "\n",
       "html[theme=dark],\n",
       "body.vscode-dark {\n",
       "  --xr-font-color0: rgba(255, 255, 255, 1);\n",
       "  --xr-font-color2: rgba(255, 255, 255, 0.54);\n",
       "  --xr-font-color3: rgba(255, 255, 255, 0.38);\n",
       "  --xr-border-color: #1F1F1F;\n",
       "  --xr-disabled-color: #515151;\n",
       "  --xr-background-color: #111111;\n",
       "  --xr-background-color-row-even: #111111;\n",
       "  --xr-background-color-row-odd: #313131;\n",
       "}\n",
       "\n",
       ".xr-wrap {\n",
       "  display: block;\n",
       "  min-width: 300px;\n",
       "  max-width: 700px;\n",
       "}\n",
       "\n",
       ".xr-text-repr-fallback {\n",
       "  /* fallback to plain text repr when CSS is not injected (untrusted notebook) */\n",
       "  display: none;\n",
       "}\n",
       "\n",
       ".xr-header {\n",
       "  padding-top: 6px;\n",
       "  padding-bottom: 6px;\n",
       "  margin-bottom: 4px;\n",
       "  border-bottom: solid 1px var(--xr-border-color);\n",
       "}\n",
       "\n",
       ".xr-header > div,\n",
       ".xr-header > ul {\n",
       "  display: inline;\n",
       "  margin-top: 0;\n",
       "  margin-bottom: 0;\n",
       "}\n",
       "\n",
       ".xr-obj-type,\n",
       ".xr-array-name {\n",
       "  margin-left: 2px;\n",
       "  margin-right: 10px;\n",
       "}\n",
       "\n",
       ".xr-obj-type {\n",
       "  color: var(--xr-font-color2);\n",
       "}\n",
       "\n",
       ".xr-sections {\n",
       "  padding-left: 0 !important;\n",
       "  display: grid;\n",
       "  grid-template-columns: 150px auto auto 1fr 20px 20px;\n",
       "}\n",
       "\n",
       ".xr-section-item {\n",
       "  display: contents;\n",
       "}\n",
       "\n",
       ".xr-section-item input {\n",
       "  display: none;\n",
       "}\n",
       "\n",
       ".xr-section-item input + label {\n",
       "  color: var(--xr-disabled-color);\n",
       "}\n",
       "\n",
       ".xr-section-item input:enabled + label {\n",
       "  cursor: pointer;\n",
       "  color: var(--xr-font-color2);\n",
       "}\n",
       "\n",
       ".xr-section-item input:enabled + label:hover {\n",
       "  color: var(--xr-font-color0);\n",
       "}\n",
       "\n",
       ".xr-section-summary {\n",
       "  grid-column: 1;\n",
       "  color: var(--xr-font-color2);\n",
       "  font-weight: 500;\n",
       "}\n",
       "\n",
       ".xr-section-summary > span {\n",
       "  display: inline-block;\n",
       "  padding-left: 0.5em;\n",
       "}\n",
       "\n",
       ".xr-section-summary-in:disabled + label {\n",
       "  color: var(--xr-font-color2);\n",
       "}\n",
       "\n",
       ".xr-section-summary-in + label:before {\n",
       "  display: inline-block;\n",
       "  content: '►';\n",
       "  font-size: 11px;\n",
       "  width: 15px;\n",
       "  text-align: center;\n",
       "}\n",
       "\n",
       ".xr-section-summary-in:disabled + label:before {\n",
       "  color: var(--xr-disabled-color);\n",
       "}\n",
       "\n",
       ".xr-section-summary-in:checked + label:before {\n",
       "  content: '▼';\n",
       "}\n",
       "\n",
       ".xr-section-summary-in:checked + label > span {\n",
       "  display: none;\n",
       "}\n",
       "\n",
       ".xr-section-summary,\n",
       ".xr-section-inline-details {\n",
       "  padding-top: 4px;\n",
       "  padding-bottom: 4px;\n",
       "}\n",
       "\n",
       ".xr-section-inline-details {\n",
       "  grid-column: 2 / -1;\n",
       "}\n",
       "\n",
       ".xr-section-details {\n",
       "  display: none;\n",
       "  grid-column: 1 / -1;\n",
       "  margin-bottom: 5px;\n",
       "}\n",
       "\n",
       ".xr-section-summary-in:checked ~ .xr-section-details {\n",
       "  display: contents;\n",
       "}\n",
       "\n",
       ".xr-array-wrap {\n",
       "  grid-column: 1 / -1;\n",
       "  display: grid;\n",
       "  grid-template-columns: 20px auto;\n",
       "}\n",
       "\n",
       ".xr-array-wrap > label {\n",
       "  grid-column: 1;\n",
       "  vertical-align: top;\n",
       "}\n",
       "\n",
       ".xr-preview {\n",
       "  color: var(--xr-font-color3);\n",
       "}\n",
       "\n",
       ".xr-array-preview,\n",
       ".xr-array-data {\n",
       "  padding: 0 5px !important;\n",
       "  grid-column: 2;\n",
       "}\n",
       "\n",
       ".xr-array-data,\n",
       ".xr-array-in:checked ~ .xr-array-preview {\n",
       "  display: none;\n",
       "}\n",
       "\n",
       ".xr-array-in:checked ~ .xr-array-data,\n",
       ".xr-array-preview {\n",
       "  display: inline-block;\n",
       "}\n",
       "\n",
       ".xr-dim-list {\n",
       "  display: inline-block !important;\n",
       "  list-style: none;\n",
       "  padding: 0 !important;\n",
       "  margin: 0;\n",
       "}\n",
       "\n",
       ".xr-dim-list li {\n",
       "  display: inline-block;\n",
       "  padding: 0;\n",
       "  margin: 0;\n",
       "}\n",
       "\n",
       ".xr-dim-list:before {\n",
       "  content: '(';\n",
       "}\n",
       "\n",
       ".xr-dim-list:after {\n",
       "  content: ')';\n",
       "}\n",
       "\n",
       ".xr-dim-list li:not(:last-child):after {\n",
       "  content: ',';\n",
       "  padding-right: 5px;\n",
       "}\n",
       "\n",
       ".xr-has-index {\n",
       "  font-weight: bold;\n",
       "}\n",
       "\n",
       ".xr-var-list,\n",
       ".xr-var-item {\n",
       "  display: contents;\n",
       "}\n",
       "\n",
       ".xr-var-item > div,\n",
       ".xr-var-item label,\n",
       ".xr-var-item > .xr-var-name span {\n",
       "  background-color: var(--xr-background-color-row-even);\n",
       "  margin-bottom: 0;\n",
       "}\n",
       "\n",
       ".xr-var-item > .xr-var-name:hover span {\n",
       "  padding-right: 5px;\n",
       "}\n",
       "\n",
       ".xr-var-list > li:nth-child(odd) > div,\n",
       ".xr-var-list > li:nth-child(odd) > label,\n",
       ".xr-var-list > li:nth-child(odd) > .xr-var-name span {\n",
       "  background-color: var(--xr-background-color-row-odd);\n",
       "}\n",
       "\n",
       ".xr-var-name {\n",
       "  grid-column: 1;\n",
       "}\n",
       "\n",
       ".xr-var-dims {\n",
       "  grid-column: 2;\n",
       "}\n",
       "\n",
       ".xr-var-dtype {\n",
       "  grid-column: 3;\n",
       "  text-align: right;\n",
       "  color: var(--xr-font-color2);\n",
       "}\n",
       "\n",
       ".xr-var-preview {\n",
       "  grid-column: 4;\n",
       "}\n",
       "\n",
       ".xr-var-name,\n",
       ".xr-var-dims,\n",
       ".xr-var-dtype,\n",
       ".xr-preview,\n",
       ".xr-attrs dt {\n",
       "  white-space: nowrap;\n",
       "  overflow: hidden;\n",
       "  text-overflow: ellipsis;\n",
       "  padding-right: 10px;\n",
       "}\n",
       "\n",
       ".xr-var-name:hover,\n",
       ".xr-var-dims:hover,\n",
       ".xr-var-dtype:hover,\n",
       ".xr-attrs dt:hover {\n",
       "  overflow: visible;\n",
       "  width: auto;\n",
       "  z-index: 1;\n",
       "}\n",
       "\n",
       ".xr-var-attrs,\n",
       ".xr-var-data {\n",
       "  display: none;\n",
       "  background-color: var(--xr-background-color) !important;\n",
       "  padding-bottom: 5px !important;\n",
       "}\n",
       "\n",
       ".xr-var-attrs-in:checked ~ .xr-var-attrs,\n",
       ".xr-var-data-in:checked ~ .xr-var-data {\n",
       "  display: block;\n",
       "}\n",
       "\n",
       ".xr-var-data > table {\n",
       "  float: right;\n",
       "}\n",
       "\n",
       ".xr-var-name span,\n",
       ".xr-var-data,\n",
       ".xr-attrs {\n",
       "  padding-left: 25px !important;\n",
       "}\n",
       "\n",
       ".xr-attrs,\n",
       ".xr-var-attrs,\n",
       ".xr-var-data {\n",
       "  grid-column: 1 / -1;\n",
       "}\n",
       "\n",
       "dl.xr-attrs {\n",
       "  padding: 0;\n",
       "  margin: 0;\n",
       "  display: grid;\n",
       "  grid-template-columns: 125px auto;\n",
       "}\n",
       "\n",
       ".xr-attrs dt, dd {\n",
       "  padding: 0;\n",
       "  margin: 0;\n",
       "  float: left;\n",
       "  padding-right: 10px;\n",
       "  width: auto;\n",
       "}\n",
       "\n",
       ".xr-attrs dt {\n",
       "  font-weight: normal;\n",
       "  grid-column: 1;\n",
       "}\n",
       "\n",
       ".xr-attrs dt:hover span {\n",
       "  display: inline-block;\n",
       "  background: var(--xr-background-color);\n",
       "  padding-right: 10px;\n",
       "}\n",
       "\n",
       ".xr-attrs dd {\n",
       "  grid-column: 2;\n",
       "  white-space: pre-wrap;\n",
       "  word-break: break-all;\n",
       "}\n",
       "\n",
       ".xr-icon-database,\n",
       ".xr-icon-file-text2 {\n",
       "  display: inline-block;\n",
       "  vertical-align: middle;\n",
       "  width: 1em;\n",
       "  height: 1.5em !important;\n",
       "  stroke-width: 0;\n",
       "  stroke: currentColor;\n",
       "  fill: currentColor;\n",
       "}\n",
       "</style><pre class='xr-text-repr-fallback'>&lt;xarray.DataArray &#x27;SA3_XTD10_PES/ADC/1:network.digitizers.channel_4_A.raw.samples&#x27; (trainId: 1475, dim_0: 40000)&gt;\n",
       "array([[ -6, -10,  -7, ..., -10,  -8,  -9],\n",
       "       [ -8,  -8,  -7, ...,  -9,  -2, -11],\n",
       "       [ -8, -10,  -7, ...,  -6,  -8, -11],\n",
       "       ...,\n",
       "       [ -7,  -9,  -8, ...,  -9,  -2,  -5],\n",
       "       [ -5, -10,  -8, ...,  -5,  -4, -10],\n",
       "       [ -7,  -8,  -7, ...,  -6,  -5,  -8]], dtype=int16)\n",
       "Coordinates:\n",
       "  * trainId  (trainId) uint64 128146446 128146447 ... 128147919 128147920\n",
       "Dimensions without coordinates: dim_0</pre><div class='xr-wrap' hidden><div class='xr-header'><div class='xr-obj-type'>xarray.DataArray</div><div class='xr-array-name'>'SA3_XTD10_PES/ADC/1:network.digitizers.channel_4_A.raw.samples'</div><ul class='xr-dim-list'><li><span class='xr-has-index'>trainId</span>: 1475</li><li><span>dim_0</span>: 40000</li></ul></div><ul class='xr-sections'><li class='xr-section-item'><div class='xr-array-wrap'><input id='section-fd35272f-86bb-4e09-bada-b1d35cd45ddc' class='xr-array-in' type='checkbox' checked><label for='section-fd35272f-86bb-4e09-bada-b1d35cd45ddc' title='Show/hide data repr'><svg class='icon xr-icon-database'><use xlink:href='#icon-database'></use></svg></label><div class='xr-array-preview xr-preview'><span>-6 -10 -7 -7 -6 -9 -7 -7 -9 -9 -4 ... -8 -5 -8 -2 -6 -4 -9 -7 -6 -5 -8</span></div><div class='xr-array-data'><pre>array([[ -6, -10,  -7, ..., -10,  -8,  -9],\n",
       "       [ -8,  -8,  -7, ...,  -9,  -2, -11],\n",
       "       [ -8, -10,  -7, ...,  -6,  -8, -11],\n",
       "       ...,\n",
       "       [ -7,  -9,  -8, ...,  -9,  -2,  -5],\n",
       "       [ -5, -10,  -8, ...,  -5,  -4, -10],\n",
       "       [ -7,  -8,  -7, ...,  -6,  -5,  -8]], dtype=int16)</pre></div></div></li><li class='xr-section-item'><input id='section-b4702d26-a269-4bf6-8f4e-4ab65ed59855' class='xr-section-summary-in' type='checkbox'  checked><label for='section-b4702d26-a269-4bf6-8f4e-4ab65ed59855' class='xr-section-summary' >Coordinates: <span>(1)</span></label><div class='xr-section-inline-details'></div><div class='xr-section-details'><ul class='xr-var-list'><li class='xr-var-item'><div class='xr-var-name'><span class='xr-has-index'>trainId</span></div><div class='xr-var-dims'>(trainId)</div><div class='xr-var-dtype'>uint64</div><div class='xr-var-preview xr-preview'>128146446 128146447 ... 128147920</div><input id='attrs-3e3c3488-c95d-4ed0-a119-825a45ba8d10' class='xr-var-attrs-in' type='checkbox' disabled><label for='attrs-3e3c3488-c95d-4ed0-a119-825a45ba8d10' title='Show/Hide attributes'><svg class='icon xr-icon-file-text2'><use xlink:href='#icon-file-text2'></use></svg></label><input id='data-5bfa1c09-13eb-4f51-9736-7684e16d6145' class='xr-var-data-in' type='checkbox'><label for='data-5bfa1c09-13eb-4f51-9736-7684e16d6145' title='Show/Hide data repr'><svg class='icon xr-icon-database'><use xlink:href='#icon-database'></use></svg></label><div class='xr-var-attrs'><dl class='xr-attrs'></dl></div><div class='xr-var-data'><pre>array([128146446, 128146447, 128146448, ..., 128147918, 128147919, 128147920],\n",
       "      dtype=uint64)</pre></div></li></ul></div></li><li class='xr-section-item'><input id='section-fc7f17f6-4da7-484a-8756-25bbc5520259' class='xr-section-summary-in' type='checkbox' disabled ><label for='section-fc7f17f6-4da7-484a-8756-25bbc5520259' class='xr-section-summary'  title='Expand/collapse section'>Attributes: <span>(0)</span></label><div class='xr-section-inline-details'></div><div class='xr-section-details'><dl class='xr-attrs'></dl></div></li></ul></div></div>"
      ],
      "text/plain": [
       "<xarray.DataArray 'SA3_XTD10_PES/ADC/1:network.digitizers.channel_4_A.raw.samples' (trainId: 1475, dim_0: 40000)>\n",
       "array([[ -6, -10,  -7, ..., -10,  -8,  -9],\n",
       "       [ -8,  -8,  -7, ...,  -9,  -2, -11],\n",
       "       [ -8, -10,  -7, ...,  -6,  -8, -11],\n",
       "       ...,\n",
       "       [ -7,  -9,  -8, ...,  -9,  -2,  -5],\n",
       "       [ -5, -10,  -8, ...,  -5,  -4, -10],\n",
       "       [ -7,  -8,  -7, ...,  -6,  -5,  -8]], dtype=int16)\n",
       "Coordinates:\n",
       "  * trainId  (trainId) uint64 128146446 128146447 ... 128147919 128147920\n",
       "Dimensions without coordinates: dim_0"
      ]
     },
     "execution_count": 9,
     "metadata": {},
     "output_type": "execute_result"
    }
   ],
   "source": [
    "run['SA3_XTD10_PES/ADC/1:network', 'digitizers.channel_4_A.raw.samples'].xarray()"
   ]
  },
  {
   "cell_type": "markdown",
   "metadata": {},
   "source": [
    "The PES consists of 16 spectrometers arranged in a circle around the beamline. We'll retrieve the data for two of these, separated by 90&deg;. N and E refer to their positions in the circle, although these are not literally North and East.\n",
    "\n",
    "[xarray](https://xarray.pydata.org/en/stable/) extends numpy arrays with metadata about the dimensions:\n",
    "we use this to annotate the data with the pulse train IDs they relate to.\n",
    "This is important when correlating data from different sources, as each source may be missing data for some\n",
    "pulse trains, so we need to match them up based on train IDs.\n",
    "See the page on [Aligning data from different sources](aligning_trains.ipynb) for more about this."
   ]
  },
  {
   "cell_type": "code",
   "execution_count": 10,
   "metadata": {},
   "outputs": [
    {
     "data": {
      "text/plain": [
       "(1475, 40000)"
      ]
     },
     "execution_count": 10,
     "metadata": {},
     "output_type": "execute_result"
    }
   ],
   "source": [
    "data_n = run['SA3_XTD10_PES/ADC/1:network', 'digitizers.channel_4_A.raw.samples'].xarray()\n",
    "data_e = run['SA3_XTD10_PES/ADC/1:network', 'digitizers.channel_3_A.raw.samples'].xarray()\n",
    "\n",
    "data_n, data_e = xr.align(data_n, data_e)\n",
    "nsamples = data_n.shape[1]\n",
    "data_n.shape"
   ]
  },
  {
   "cell_type": "markdown",
   "metadata": {},
   "source": [
    "We'll get a few other values from the run to annotate the plot.\n",
    "This uses pandas - see the section above for more about that."
   ]
  },
  {
   "cell_type": "code",
   "execution_count": 11,
   "metadata": {},
   "outputs": [
    {
     "data": {
      "text/plain": [
       "SA3_XTD10_PES/MCPS/MPOD/channels.U200.measurementSenseVoltage   -0.101792\n",
       "SA3_XTD10_PES/MCPS/MPOD/channels.U201.measurementSenseVoltage   -0.111782\n",
       "SA3_XTD10_PES/MCPS/MPOD/channels.U202.measurementSenseVoltage   -0.106823\n",
       "SA3_XTD10_PES/MCPS/MPOD/channels.U203.measurementSenseVoltage   -0.107910\n",
       "Name: 128146446, dtype: float32"
      ]
     },
     "execution_count": 11,
     "metadata": {},
     "output_type": "execute_result"
    }
   ],
   "source": [
    "# Get the first values from four channels measuring voltage\n",
    "electr = run.select('SA3_XTD10_PES/MCPS/MPOD', 'channels.U20[0123].measurementSenseVoltage').get_dataframe()\n",
    "electr_voltages = electr.iloc[0].sort_index()\n",
    "electr_voltages"
   ]
  },
  {
   "cell_type": "code",
   "execution_count": 12,
   "metadata": {},
   "outputs": [
    {
     "name": "stdout",
     "output_type": "stream",
     "text": [
      "SA3_XTD10_PES/DCTRL/V30300S_NITROGEN/interlock.AActionState    1\n",
      "SA3_XTD10_PES/DCTRL/V30310S_NEON/interlock.AActionState        0\n",
      "SA3_XTD10_PES/DCTRL/V30320S_KRYPTON/interlock.AActionState     1\n",
      "SA3_XTD10_PES/DCTRL/V30330S_XENON/interlock.AActionState       1\n",
      "Name: 128146446, dtype: uint32\n"
     ]
    }
   ],
   "source": [
    "gas_interlocks = run.select('SA3_XTD10_PES/DCTRL/*', 'interlock.AActionState').get_dataframe()\n",
    "\n",
    "# Take the first row of the gas interlock data and find which gas was unlocked\n",
    "row = gas_interlocks.iloc[0].sort_index()\n",
    "print(row)\n",
    "if (row == 0).any():\n",
    "    key = row[row == 0].index[0]\n",
    "    target_gas = re.search(r'(XENON|KRYPTON|NITROGEN|NEON)', key).group(1).title()\n",
    "else:\n",
    "    target_gas = 'No gas'"
   ]
  },
  {
   "cell_type": "markdown",
   "metadata": {},
   "source": [
    "Now we can average the spectra across the trains in this run, and plot them."
   ]
  },
  {
   "cell_type": "code",
   "execution_count": 13,
   "metadata": {},
   "outputs": [
    {
     "data": {
      "image/png": "[encoded data removed]",
      "text/plain": [
       "<Figure size 720x288 with 2 Axes>"
      ]
     },
     "metadata": {
      "needs_background": "light"
     },
     "output_type": "display_data"
    }
   ],
   "source": [
    "x = np.linspace(0, 0.0005*nsamples, nsamples, endpoint=False)\n",
    "\n",
    "fig, axes = plt.subplots(1, 2, figsize=(10, 4))\n",
    "for ax, dataset, start_time in zip(axes, [data_n, data_e], [15.76439411, 15.76289411]):\n",
    "    ax.plot(x, dataset.sum(axis=0))\n",
    "    ax.yaxis.major.formatter.set_powerlimits((0, 0))\n",
    "    ax.set_xlim(15.75, 15.85)\n",
    "    ax.set_xlabel('time ($\\mu$s)')\n",
    "\n",
    "    ax.axvline(start_time, color='red', linestyle='dotted', label='Start time')\n",
    "    ax.axvline(start_time + 0.0079, color='magenta', linestyle='dotted', label='Neon K 1s')\n",
    "    ax.axvline(start_time + 0.041, color='black', label='Auger peak')\n",
    "    ax.legend()\n",
    "\n",
    "axes[0].set_title('Spectrometer 00 N')\n",
    "axes[1].set_title('Spectrometer 04 E')\n",
    "fig.suptitle('{gas};  900 eV; [A B C D] = [{voltages[0]:.1f} {voltages[1]:.1f} {voltages[2]:.1f} {voltages[3]:.1f}] V; run 67'\n",
    "             .format(gas=target_gas, voltages=electr_voltages.values), y=1.05);"
   ]
  },
  {
   "cell_type": "markdown",
   "metadata": {},
   "source": [
    "The spectra look different because the beam is horizontally polarised, so the E spectrometer sees a peak that the N spectrometer doesn't."
   ]
  }
 ],
 "metadata": {
  "kernelspec": {
   "display_name": "xfel",
   "language": "python",
   "name": "xfel"
  },
  "language_info": {
   "codemirror_mode": {
    "name": "ipython",
    "version": 3
   },
   "file_extension": ".py",
   "mimetype": "text/x-python",
   "name": "python",
   "nbconvert_exporter": "python",
   "pygments_lexer": "ipython3",
   "version": "3.7.3"
  }
 },
 "nbformat": 4,
 "nbformat_minor": 2
}
