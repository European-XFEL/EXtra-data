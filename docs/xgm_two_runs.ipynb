{
 "cells": [
  {
   "cell_type": "markdown",
   "metadata": {},
   "source": [
    "# Comparing fast XGM data from two simultaneous recordings\n",
    "\n",
    "Here we will look at XGM data that was recorded by the X-ray photon diagnostics group at the same short time interval, but at different locations of the EuXFEL-SASE. We will compare an XGM in SASE1 (XTD2) to another one in SASE3 (XTD10). These data were stored in two different runs, belonging to two different proposals even.  \n",
    "Conceptually, this section makes use of data-object formats introduced before: Xarray, Pandas Series and Pandas DataFrame."
   ]
  },
  {
   "cell_type": "code",
   "execution_count": 1,
   "metadata": {
    "collapsed": true
   },
   "outputs": [],
   "source": [
    "%matplotlib inline\n",
    "import matplotlib.pyplot as plt\n",
    "import numpy as np\n",
    "\n",
    "from karabo_data import RunDirectory"
   ]
  },
  {
   "cell_type": "markdown",
   "metadata": {},
   "source": [
    "Load the SASE1 run:"
   ]
  },
  {
   "cell_type": "code",
   "execution_count": 2,
   "metadata": {
    "collapsed": false
   },
   "outputs": [
    {
     "name": "stdout",
     "output_type": "stream",
     "text": [
      "# of trains:    6296\n",
      "Duration:       0:10:29.500000\n",
      "First train ID: 38227866\n",
      "Last train ID:  38234161\n",
      "\n",
      "0 detector modules ()\n",
      "\n",
      "5 instrument sources (excluding detectors):\n",
      "  - SA1_XTD2_MCP/ADC/1:channel_3.output\n",
      "  - SA1_XTD2_MCP/ADC/1:channel_5.output\n",
      "  - SA1_XTD2_MCP/ADC/1:channel_9.output\n",
      "  - SA1_XTD2_XGM/XGM/DOOCS:output\n",
      "  - SPB_XTD9_XGM/XGM/DOOCS:output\n",
      "\n",
      "8 control sources:\n",
      "  - SA1_XTD2_MCP/ADC/1\n",
      "  - SA1_XTD2_MCP/DCTRL/UVLAMP\n",
      "  - SA1_XTD2_MCP/MOTOR/X1\n",
      "  - SA1_XTD2_MCP/PSC/MCP1\n",
      "  - SA1_XTD2_MCP/PSC/MCP2\n",
      "  - SA1_XTD2_MCP/PSC/PHOTODIODE\n",
      "  - SA1_XTD2_XGM/XGM/DOOCS\n",
      "  - SPB_XTD9_XGM/XGM/DOOCS\n",
      "\n"
     ]
    }
   ],
   "source": [
    "sa1_data = RunDirectory('/gpfs/exfel/exp/SA1/201930/p900066/raw/r0009')\n",
    "sa1_data.info()"
   ]
  },
  {
   "cell_type": "markdown",
   "metadata": {},
   "source": [
    "We are interested in fast, i.e. pulse-resolved data from the instrument source `SA1_XTD2_XGM/DOOCS:output`. As learned in the previous chapter, the ***Xarray*** data class is suited for such data."
   ]
  },
  {
   "cell_type": "code",
   "execution_count": 3,
   "metadata": {
    "collapsed": false
   },
   "outputs": [
    {
     "data": {
      "text/plain": [
       "{'data.intensityAUXTD',\n",
       " 'data.intensitySigma.x_data',\n",
       " 'data.intensitySigma.y_data',\n",
       " 'data.intensityTD',\n",
       " 'data.trainId',\n",
       " 'data.xTD',\n",
       " 'data.yTD'}"
      ]
     },
     "execution_count": 3,
     "metadata": {},
     "output_type": "execute_result"
    }
   ],
   "source": [
    "sa1_data.keys_for_source('SA1_XTD2_XGM/XGM/DOOCS:output')"
   ]
  },
  {
   "cell_type": "markdown",
   "metadata": {},
   "source": [
    "We want the data for quantity `intensityTD`. However, we do not want to work with the complete two-dimensional array, but with an array of first pulses from every train. Numpy offers a very convenient syntax where array dimensions are separated by comma within only one pair of square brackets. In this particular case, the colon means to take all indices of the first dimension (trains), while the zero is an index for a single element in dimension two, that is, the first pulse of each train: "
   ]
  },
  {
   "cell_type": "code",
   "execution_count": 4,
   "metadata": {
    "collapsed": false
   },
   "outputs": [
    {
     "name": "stdout",
     "output_type": "stream",
     "text": [
      "(6295, 1000)\n",
      "(6295,)\n"
     ]
    }
   ],
   "source": [
    "sa1_flux = sa1_data.get_array('SA1_XTD2_XGM/XGM/DOOCS:output', 'data.intensityTD')\n",
    "print(sa1_flux.shape)\n",
    "sa1_pulse_flux = sa1_flux[:,0]\n",
    "print(sa1_pulse_flux.shape)"
   ]
  },
  {
   "cell_type": "markdown",
   "metadata": {},
   "source": [
    "Finally we plot the data as line-graph:"
   ]
  },
  {
   "cell_type": "code",
   "execution_count": 5,
   "metadata": {
    "collapsed": false,
    "scrolled": true
   },
   "outputs": [
    {
     "data": {
      "text/plain": [
       "Text(0, 0.5, 'intensityTD')"
      ]
     },
     "execution_count": 5,
     "metadata": {},
     "output_type": "execute_result"
    },
    {
     "data": {
      "image/png": "[encoded data removed]",
      "text/plain": [
       "<Figure size 432x288 with 1 Axes>"
      ]
     },
     "metadata": {
      "needs_background": "light"
     },
     "output_type": "display_data"
    }
   ],
   "source": [
    "fig = plt.figure(figsize=(6,4))\n",
    "ax = fig.add_subplot(111)\n",
    "ax.plot(sa1_pulse_flux)\n",
    "ax.set_title('SASE1 XTD2 XGM intensity (fast)')\n",
    "ax.set_xlabel('train index')\n",
    "ax.set_ylabel('intensityTD')"
   ]
  },
  {
   "cell_type": "markdown",
   "metadata": {},
   "source": [
    "We repeat everything for the second data set from the different run - SASE3:"
   ]
  },
  {
   "cell_type": "code",
   "execution_count": 6,
   "metadata": {
    "collapsed": false
   },
   "outputs": [
    {
     "name": "stdout",
     "output_type": "stream",
     "text": [
      "# of trains:    6236\n",
      "Duration:       0:10:23.500000\n",
      "First train ID: 38227850\n",
      "Last train ID:  38234085\n",
      "\n",
      "0 detector modules ()\n",
      "\n",
      "1 instrument sources (excluding detectors):\n",
      "  - SA3_XTD10_XGM/XGM/DOOCS:output\n",
      "\n",
      "2 control sources:\n",
      "  - SA3_BR_UTC/TSYS/TIMESERVER\n",
      "  - SA3_XTD10_XGM/XGM/DOOCS\n",
      "\n"
     ]
    }
   ],
   "source": [
    "sa3_data = RunDirectory('/gpfs/exfel/exp/SA3/201930/p900073/raw/r0032')\n",
    "sa3_data.info()"
   ]
  },
  {
   "cell_type": "code",
   "execution_count": 7,
   "metadata": {
    "collapsed": false
   },
   "outputs": [
    {
     "name": "stdout",
     "output_type": "stream",
     "text": [
      "(6235,)\n"
     ]
    }
   ],
   "source": [
    "sa3_flux = sa3_data.get_array('SA3_XTD10_XGM/XGM/DOOCS:output', 'data.intensityTD')\n",
    "sa3_pulse_flux = sa3_flux[:,0]\n",
    "print(sa3_pulse_flux.shape)"
   ]
  },
  {
   "cell_type": "code",
   "execution_count": 8,
   "metadata": {
    "collapsed": false,
    "scrolled": true
   },
   "outputs": [
    {
     "data": {
      "text/plain": [
       "Text(0, 0.5, 'intensityTD')"
      ]
     },
     "execution_count": 8,
     "metadata": {},
     "output_type": "execute_result"
    },
    {
     "data": {
      "image/png": "[encoded data removed]",
      "text/plain": [
       "<Figure size 432x288 with 1 Axes>"
      ]
     },
     "metadata": {
      "needs_background": "light"
     },
     "output_type": "display_data"
    }
   ],
   "source": [
    "fig = plt.figure(figsize=(6,4))\n",
    "ax = fig.add_subplot(111)\n",
    "ax.plot(sa3_pulse_flux)\n",
    "ax.set_title('SASE3 XTD10 XGM intensity (fast)')\n",
    "ax.set_xlabel('train index')\n",
    "ax.set_ylabel('intensityTD')"
   ]
  },
  {
   "cell_type": "markdown",
   "metadata": {},
   "source": [
    "## Aligning and correlating the data\n",
    "\n",
    "Next, we want to compare the two runs more directly, namely by correlation. From the `run.info()` we have noticed that the two data sets are not of equal size. They are largely overlapping in unique train identifiers, but SASE3 data starts 16 trains earlier, ends 76 trains earlier and thus contains 60 trains less overall.\n",
    "\n",
    "In order to combine the two runs into one \"data table\" with matching trains, a Pandas ***DataFrame*** object is a very good option. We will first export the single-pulse Xarray data to Pandas ***Series*** and then concatenate these. Concatenation with Pandas can be done by providing the two input data *Series* as a list, or as a dictionary with key-value pairs, which has the advantage that we will obtain named data columns in the *DataFrame*, as per the keys provided.  \n",
    "\n",
    "Because of the train-range inconsistency, we also need to match the trains. There are two ways of achieving this with Pandas. Pandas will align data automatically upon concatenation, implicitly *expanding* it where neccessary to produce the union. This means that rows with unmatched train-Ids in either column will be filled with NaN in the complementary column.  \n",
    "Here, we will instead explicitly *reduce* the data to its intersection, meaning that trains for which only one column contains data are dropped. That's achieved with the keyword `join='inner'`, and the intersection consists of 6218 trains:"
   ]
  },
  {
   "cell_type": "code",
   "execution_count": 9,
   "metadata": {
    "collapsed": false
   },
   "outputs": [
    {
     "name": "stdout",
     "output_type": "stream",
     "text": [
      "(6218, 2)\n"
     ]
    },
    {
     "data": {
      "text/html": [
       "<div>\n",
       "<style scoped>\n",
       "    .dataframe tbody tr th:only-of-type {\n",
       "        vertical-align: middle;\n",
       "    }\n",
       "\n",
       "    .dataframe tbody tr th {\n",
       "        vertical-align: top;\n",
       "    }\n",
       "\n",
       "    .dataframe thead th {\n",
       "        text-align: right;\n",
       "    }\n",
       "</style>\n",
       "<table border=\"1\" class=\"dataframe\">\n",
       "  <thead>\n",
       "    <tr style=\"text-align: right;\">\n",
       "      <th></th>\n",
       "      <th>SA1_XTD2_XGM.intensityTD</th>\n",
       "      <th>SA3_XTD10_XGM.intensityTD</th>\n",
       "    </tr>\n",
       "    <tr>\n",
       "      <th>trainId</th>\n",
       "      <th></th>\n",
       "      <th></th>\n",
       "    </tr>\n",
       "  </thead>\n",
       "  <tbody>\n",
       "    <tr>\n",
       "      <th>38227866</th>\n",
       "      <td>2045.128662</td>\n",
       "      <td>5.927809</td>\n",
       "    </tr>\n",
       "    <tr>\n",
       "      <th>38227867</th>\n",
       "      <td>2091.464355</td>\n",
       "      <td>8.840389</td>\n",
       "    </tr>\n",
       "    <tr>\n",
       "      <th>38227868</th>\n",
       "      <td>1872.964722</td>\n",
       "      <td>7.313530</td>\n",
       "    </tr>\n",
       "    <tr>\n",
       "      <th>38227869</th>\n",
       "      <td>1854.730591</td>\n",
       "      <td>5.530055</td>\n",
       "    </tr>\n",
       "    <tr>\n",
       "      <th>38227870</th>\n",
       "      <td>1980.810547</td>\n",
       "      <td>2.412182</td>\n",
       "    </tr>\n",
       "  </tbody>\n",
       "</table>\n",
       "</div>"
      ],
      "text/plain": [
       "          SA1_XTD2_XGM.intensityTD  SA3_XTD10_XGM.intensityTD\n",
       "trainId                                                      \n",
       "38227866               2045.128662                   5.927809\n",
       "38227867               2091.464355                   8.840389\n",
       "38227868               1872.964722                   7.313530\n",
       "38227869               1854.730591                   5.530055\n",
       "38227870               1980.810547                   2.412182"
      ]
     },
     "execution_count": 9,
     "metadata": {},
     "output_type": "execute_result"
    }
   ],
   "source": [
    "import pandas as pd\n",
    "\n",
    "sa1_pulse_flux_pd = sa1_pulse_flux.to_series()\n",
    "sa3_pulse_flux_pd = sa3_pulse_flux.to_series()\n",
    "\n",
    "sa1_sa3 = pd.concat({\n",
    " 'SA1_XTD2_XGM.intensityTD': sa1_pulse_flux_pd,\n",
    " 'SA3_XTD10_XGM.intensityTD': sa3_pulse_flux_pd,\n",
    "}, axis=1, join='inner')\n",
    "\n",
    "print(sa1_sa3.shape)\n",
    "sa1_sa3.head(5)"
   ]
  },
  {
   "cell_type": "markdown",
   "metadata": {},
   "source": [
    "Finally we will plot the correlation of the two:"
   ]
  },
  {
   "cell_type": "code",
   "execution_count": 10,
   "metadata": {
    "collapsed": false,
    "scrolled": false
   },
   "outputs": [
    {
     "data": {
      "text/plain": [
       "<matplotlib.axes._subplots.AxesSubplot at 0x2b40356e3be0>"
      ]
     },
     "execution_count": 10,
     "metadata": {},
     "output_type": "execute_result"
    },
    {
     "data": {
      "image/png": "[encoded data removed]",
      "text/plain": [
       "<Figure size 576x432 with 1 Axes>"
      ]
     },
     "metadata": {
      "needs_background": "light"
     },
     "output_type": "display_data"
    }
   ],
   "source": [
    "fig = plt.figure(figsize=(8,6))\n",
    "fig.suptitle('XGM correlation')\n",
    "ax = fig.add_subplot(1,1,1)\n",
    "sa1_sa3.plot.scatter(x='SA1_XTD2_XGM.intensityTD', y='SA3_XTD10_XGM.intensityTD', ax=ax)"
   ]
  }
 ],
 "metadata": {
  "kernelspec": {
   "display_name": "Python 3",
   "language": "python",
   "name": "python3"
  },
  "language_info": {
   "codemirror_mode": {
    "name": "ipython",
    "version": 3
   },
   "file_extension": ".py",
   "mimetype": "text/x-python",
   "name": "python",
   "nbconvert_exporter": "python",
   "pygments_lexer": "ipython3",
   "version": "3.6.6"
  }
 },
 "nbformat": 4,
 "nbformat_minor": 2
}
