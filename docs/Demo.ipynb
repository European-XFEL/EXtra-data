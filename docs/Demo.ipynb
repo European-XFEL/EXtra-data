{
 "cells": [
  {
   "cell_type": "markdown",
   "metadata": {},
   "source": [
    "# Reading data with `karabo_data`"
   ]
  },
  {
   "cell_type": "markdown",
   "metadata": {},
   "source": [
    "This command creates the sample data files used in the rest of this example. These files contain no real data, but they have the same structure as European XFEL's HDF5 data files."
   ]
  },
  {
   "cell_type": "code",
   "execution_count": 1,
   "metadata": {},
   "outputs": [
    {
     "name": "stdout",
     "output_type": "stream",
     "text": [
      "Written examples.\r\n"
     ]
    }
   ],
   "source": [
    "!python3 -m karabo_data.tests.make_examples"
   ]
  },
  {
   "cell_type": "markdown",
   "metadata": {},
   "source": [
    "## Single files"
   ]
  },
  {
   "cell_type": "code",
   "execution_count": 2,
   "metadata": {
    "scrolled": true
   },
   "outputs": [
    {
     "name": "stdout",
     "output_type": "stream",
     "text": [
      "CONTROL                  Group\r\n",
      "INDEX                    Group\r\n",
      "INSTRUMENT               Group\r\n",
      "METADATA                 Group\r\n",
      "RUN                      Group\r\n"
     ]
    }
   ],
   "source": [
    "!h5ls fxe_control_example.h5"
   ]
  },
  {
   "cell_type": "code",
   "execution_count": 3,
   "metadata": {},
   "outputs": [],
   "source": [
    "from karabo_data import H5File\n",
    "f = H5File('fxe_control_example.h5')"
   ]
  },
  {
   "cell_type": "code",
   "execution_count": 4,
   "metadata": {},
   "outputs": [
    {
     "data": {
      "text/plain": [
       "frozenset({'FXE_XAD_GEC/CAM/CAMERA',\n",
       "           'SA1_XTD2_XGM/DOOCS/MAIN',\n",
       "           'SPB_XTD9_XGM/DOOCS/MAIN'})"
      ]
     },
     "execution_count": 4,
     "metadata": {},
     "output_type": "execute_result"
    }
   ],
   "source": [
    "f.control_sources"
   ]
  },
  {
   "cell_type": "code",
   "execution_count": 5,
   "metadata": {},
   "outputs": [
    {
     "data": {
      "text/plain": [
       "frozenset({'FXE_XAD_GEC/CAM/CAMERA:daqOutput',\n",
       "           'SA1_XTD2_XGM/DOOCS/MAIN:output',\n",
       "           'SPB_XTD9_XGM/DOOCS/MAIN:output'})"
      ]
     },
     "execution_count": 5,
     "metadata": {},
     "output_type": "execute_result"
    }
   ],
   "source": [
    "f.instrument_sources"
   ]
  },
  {
   "cell_type": "markdown",
   "metadata": {},
   "source": [
    "### Get data by train"
   ]
  },
  {
   "cell_type": "code",
   "execution_count": 6,
   "metadata": {},
   "outputs": [
    {
     "name": "stdout",
     "output_type": "stream",
     "text": [
      "Processing train 10000\n",
      "beam iyPos: 0.0\n"
     ]
    }
   ],
   "source": [
    "for tid, data in f.trains():\n",
    "    print(\"Processing train\", tid)\n",
    "    print(\"beam iyPos:\", data['SA1_XTD2_XGM/DOOCS/MAIN']['beamPosition.iyPos.value'])\n",
    "    \n",
    "    break"
   ]
  },
  {
   "cell_type": "code",
   "execution_count": 7,
   "metadata": {},
   "outputs": [
    {
     "data": {
      "text/plain": [
       "array([1024,  255], dtype=uint64)"
      ]
     },
     "execution_count": 7,
     "metadata": {},
     "output_type": "execute_result"
    }
   ],
   "source": [
    "tid, data = f.train_from_id(10005)\n",
    "data['FXE_XAD_GEC/CAM/CAMERA:daqOutput']['data.image.dims']"
   ]
  },
  {
   "cell_type": "markdown",
   "metadata": {},
   "source": [
    "These are just a few of the ways to access data. The attributes and methods described below for run directories also work with individual files. We expect that it will normally make sense to access a run directory as a single object, rather than working with the files separately."
   ]
  },
  {
   "cell_type": "markdown",
   "metadata": {},
   "source": [
    "## Run directories\n",
    "\n",
    "An experimental run is recorded as a collection of files in a directory.\n",
    "\n",
    "Another dummy example:"
   ]
  },
  {
   "cell_type": "code",
   "execution_count": 8,
   "metadata": {
    "scrolled": false
   },
   "outputs": [
    {
     "name": "stdout",
     "output_type": "stream",
     "text": [
      "RAW-R0450-DA01-S00000.h5   RAW-R0450-LPD04-S00000.h5  RAW-R0450-LPD10-S00000.h5\r\n",
      "RAW-R0450-DA01-S00001.h5   RAW-R0450-LPD05-S00000.h5  RAW-R0450-LPD11-S00000.h5\r\n",
      "RAW-R0450-LPD00-S00000.h5  RAW-R0450-LPD06-S00000.h5  RAW-R0450-LPD12-S00000.h5\r\n",
      "RAW-R0450-LPD01-S00000.h5  RAW-R0450-LPD07-S00000.h5  RAW-R0450-LPD13-S00000.h5\r\n",
      "RAW-R0450-LPD02-S00000.h5  RAW-R0450-LPD08-S00000.h5  RAW-R0450-LPD14-S00000.h5\r\n",
      "RAW-R0450-LPD03-S00000.h5  RAW-R0450-LPD09-S00000.h5  RAW-R0450-LPD15-S00000.h5\r\n"
     ]
    }
   ],
   "source": [
    "!ls fxe_example_run/"
   ]
  },
  {
   "cell_type": "code",
   "execution_count": 9,
   "metadata": {},
   "outputs": [],
   "source": [
    "from karabo_data import RunDirectory\n",
    "run = RunDirectory('fxe_example_run/')"
   ]
  },
  {
   "cell_type": "code",
   "execution_count": 10,
   "metadata": {},
   "outputs": [
    {
     "data": {
      "text/plain": [
       "[FileAccess(<HDF5 file \"RAW-R0450-LPD04-S00000.h5\" (mode r)>),\n",
       " FileAccess(<HDF5 file \"RAW-R0450-LPD11-S00000.h5\" (mode r)>),\n",
       " FileAccess(<HDF5 file \"RAW-R0450-LPD15-S00000.h5\" (mode r)>)]"
      ]
     },
     "execution_count": 10,
     "metadata": {},
     "output_type": "execute_result"
    }
   ],
   "source": [
    "run.files[:3]   # The objects for the individual files (see above)"
   ]
  },
  {
   "cell_type": "markdown",
   "metadata": {},
   "source": [
    "What devices were recording in this run?\n",
    "\n",
    "*Control* devices are slow data, recording once per train. *Instrument* devices includes detector data, but also some other data sources such as cameras. They can have more than one reading per train."
   ]
  },
  {
   "cell_type": "code",
   "execution_count": 11,
   "metadata": {},
   "outputs": [
    {
     "data": {
      "text/plain": [
       "frozenset({'FXE_XAD_GEC/CAM/CAMERA',\n",
       "           'FXE_XAD_GEC/CAM/CAMERA_NODATA',\n",
       "           'SA1_XTD2_XGM/DOOCS/MAIN',\n",
       "           'SPB_XTD9_XGM/DOOCS/MAIN'})"
      ]
     },
     "execution_count": 11,
     "metadata": {},
     "output_type": "execute_result"
    }
   ],
   "source": [
    "run.control_sources"
   ]
  },
  {
   "cell_type": "code",
   "execution_count": 12,
   "metadata": {},
   "outputs": [
    {
     "data": {
      "text/plain": [
       "frozenset({'FXE_DET_LPD1M-1/DET/0CH0:xtdf',\n",
       "           'FXE_DET_LPD1M-1/DET/10CH0:xtdf',\n",
       "           'FXE_DET_LPD1M-1/DET/11CH0:xtdf',\n",
       "           'FXE_DET_LPD1M-1/DET/12CH0:xtdf',\n",
       "           'FXE_DET_LPD1M-1/DET/13CH0:xtdf',\n",
       "           'FXE_DET_LPD1M-1/DET/14CH0:xtdf',\n",
       "           'FXE_DET_LPD1M-1/DET/15CH0:xtdf',\n",
       "           'FXE_DET_LPD1M-1/DET/1CH0:xtdf',\n",
       "           'FXE_DET_LPD1M-1/DET/2CH0:xtdf',\n",
       "           'FXE_DET_LPD1M-1/DET/3CH0:xtdf',\n",
       "           'FXE_DET_LPD1M-1/DET/4CH0:xtdf',\n",
       "           'FXE_DET_LPD1M-1/DET/5CH0:xtdf',\n",
       "           'FXE_DET_LPD1M-1/DET/6CH0:xtdf',\n",
       "           'FXE_DET_LPD1M-1/DET/7CH0:xtdf',\n",
       "           'FXE_DET_LPD1M-1/DET/8CH0:xtdf',\n",
       "           'FXE_DET_LPD1M-1/DET/9CH0:xtdf',\n",
       "           'FXE_XAD_GEC/CAM/CAMERA:daqOutput',\n",
       "           'FXE_XAD_GEC/CAM/CAMERA_NODATA:daqOutput',\n",
       "           'SA1_XTD2_XGM/DOOCS/MAIN:output',\n",
       "           'SPB_XTD9_XGM/DOOCS/MAIN:output'})"
      ]
     },
     "execution_count": 12,
     "metadata": {},
     "output_type": "execute_result"
    }
   ],
   "source": [
    "run.instrument_sources"
   ]
  },
  {
   "cell_type": "markdown",
   "metadata": {},
   "source": [
    "Which trains are in this run?"
   ]
  },
  {
   "cell_type": "code",
   "execution_count": 13,
   "metadata": {},
   "outputs": [
    {
     "name": "stdout",
     "output_type": "stream",
     "text": [
      "[10000, 10001, 10002, 10003, 10004, 10005, 10006, 10007, 10008, 10009]\n"
     ]
    }
   ],
   "source": [
    "print(run.train_ids[:10])"
   ]
  },
  {
   "cell_type": "markdown",
   "metadata": {},
   "source": [
    "See the available keys for a given source:"
   ]
  },
  {
   "cell_type": "code",
   "execution_count": 14,
   "metadata": {},
   "outputs": [
    {
     "data": {
      "text/plain": [
       "{'data.intensityAUXTD',\n",
       " 'data.intensitySigma.x_data',\n",
       " 'data.intensitySigma.y_data',\n",
       " 'data.intensityTD',\n",
       " 'data.trainId',\n",
       " 'data.xTD',\n",
       " 'data.yTD'}"
      ]
     },
     "execution_count": 14,
     "metadata": {},
     "output_type": "execute_result"
    }
   ],
   "source": [
    "run.keys_for_source('SPB_XTD9_XGM/DOOCS/MAIN:output')"
   ]
  },
  {
   "cell_type": "markdown",
   "metadata": {},
   "source": [
    "This collects data from across files, including detector data:"
   ]
  },
  {
   "cell_type": "code",
   "execution_count": 15,
   "metadata": {},
   "outputs": [
    {
     "name": "stdout",
     "output_type": "stream",
     "text": [
      "Processing train 10000\n",
      "Detctor data module 0 shape: (128, 1, 256, 256)\n"
     ]
    }
   ],
   "source": [
    "for tid, data in run.trains():\n",
    "    print(\"Processing train\", tid)\n",
    "    print(\"Detctor data module 0 shape:\", data['FXE_DET_LPD1M-1/DET/0CH0:xtdf']['image.data'].shape)\n",
    "\n",
    "    break  # Stop after the first train to keep the demo short"
   ]
  },
  {
   "cell_type": "markdown",
   "metadata": {},
   "source": [
    "Train IDs are meant to be globally unique (although there were some glitches with this in the past). A train index is only within this run."
   ]
  },
  {
   "cell_type": "code",
   "execution_count": 16,
   "metadata": {},
   "outputs": [],
   "source": [
    "tid, data = run.train_from_id(10005)\n",
    "tid, data = run.train_from_index(5)"
   ]
  },
  {
   "cell_type": "markdown",
   "metadata": {},
   "source": [
    "### Series data to pandas"
   ]
  },
  {
   "cell_type": "markdown",
   "metadata": {},
   "source": [
    "Data which holds a single number per train (or per pulse) can be extracted to as *series* (individual columns) and *dataframes* (tables) for [pandas](http://pandas.pydata.org/pandas-docs/stable/), a widely-used tool for data manipulation.\n",
    "\n",
    "`karabo_data` chains sequence files, which contain successive data from the same source. In this example, trains 10000–10399 are in one sequence file (`...DA01-S00000.h5`), and 10400–10479 are in another (`...DA01-S00001.h5`). They are concatenated into one series:"
   ]
  },
  {
   "cell_type": "code",
   "execution_count": 17,
   "metadata": {
    "scrolled": true
   },
   "outputs": [
    {
     "data": {
      "text/plain": [
       "trainId\n",
       "10470    0.0\n",
       "10471    0.0\n",
       "10472    0.0\n",
       "10473    0.0\n",
       "10474    0.0\n",
       "10475    0.0\n",
       "10476    0.0\n",
       "10477    0.0\n",
       "10478    0.0\n",
       "10479    0.0\n",
       "Name: SA1_XTD2_XGM/DOOCS/MAIN/beamPosition.ixPos, dtype: float32"
      ]
     },
     "execution_count": 17,
     "metadata": {},
     "output_type": "execute_result"
    }
   ],
   "source": [
    "ixPos = run.get_series('SA1_XTD2_XGM/DOOCS/MAIN', 'beamPosition.ixPos.value')\n",
    "ixPos.tail(10)"
   ]
  },
  {
   "cell_type": "markdown",
   "metadata": {},
   "source": [
    "To extract a dataframe, you can select interesting data fields with *glob* syntax, as often used for selecting files on Unix platforms.\n",
    "\n",
    "* `[abc]`: one character, a/b/c\n",
    "* `?`: any one character\n",
    "* `*`: any sequence of characters"
   ]
  },
  {
   "cell_type": "code",
   "execution_count": 18,
   "metadata": {},
   "outputs": [
    {
     "data": {
      "text/html": [
       "<div>\n",
       "<style scoped>\n",
       "    .dataframe tbody tr th:only-of-type {\n",
       "        vertical-align: middle;\n",
       "    }\n",
       "\n",
       "    .dataframe tbody tr th {\n",
       "        vertical-align: top;\n",
       "    }\n",
       "\n",
       "    .dataframe thead th {\n",
       "        text-align: right;\n",
       "    }\n",
       "</style>\n",
       "<table border=\"1\" class=\"dataframe\">\n",
       "  <thead>\n",
       "    <tr style=\"text-align: right;\">\n",
       "      <th></th>\n",
       "      <th>SA1_XTD2_XGM/DOOCS/MAIN/beamPosition.ixPos</th>\n",
       "      <th>SA1_XTD2_XGM/DOOCS/MAIN/beamPosition.iyPos</th>\n",
       "      <th>SPB_XTD9_XGM/DOOCS/MAIN/beamPosition.ixPos</th>\n",
       "      <th>SPB_XTD9_XGM/DOOCS/MAIN/beamPosition.iyPos</th>\n",
       "    </tr>\n",
       "    <tr>\n",
       "      <th>trainId</th>\n",
       "      <th></th>\n",
       "      <th></th>\n",
       "      <th></th>\n",
       "      <th></th>\n",
       "    </tr>\n",
       "  </thead>\n",
       "  <tbody>\n",
       "    <tr>\n",
       "      <th>10000</th>\n",
       "      <td>0.0</td>\n",
       "      <td>0.0</td>\n",
       "      <td>0.0</td>\n",
       "      <td>0.0</td>\n",
       "    </tr>\n",
       "    <tr>\n",
       "      <th>10001</th>\n",
       "      <td>0.0</td>\n",
       "      <td>0.0</td>\n",
       "      <td>0.0</td>\n",
       "      <td>0.0</td>\n",
       "    </tr>\n",
       "    <tr>\n",
       "      <th>10002</th>\n",
       "      <td>0.0</td>\n",
       "      <td>0.0</td>\n",
       "      <td>0.0</td>\n",
       "      <td>0.0</td>\n",
       "    </tr>\n",
       "    <tr>\n",
       "      <th>10003</th>\n",
       "      <td>0.0</td>\n",
       "      <td>0.0</td>\n",
       "      <td>0.0</td>\n",
       "      <td>0.0</td>\n",
       "    </tr>\n",
       "    <tr>\n",
       "      <th>10004</th>\n",
       "      <td>0.0</td>\n",
       "      <td>0.0</td>\n",
       "      <td>0.0</td>\n",
       "      <td>0.0</td>\n",
       "    </tr>\n",
       "    <tr>\n",
       "      <th>10005</th>\n",
       "      <td>0.0</td>\n",
       "      <td>0.0</td>\n",
       "      <td>0.0</td>\n",
       "      <td>0.0</td>\n",
       "    </tr>\n",
       "    <tr>\n",
       "      <th>10006</th>\n",
       "      <td>0.0</td>\n",
       "      <td>0.0</td>\n",
       "      <td>0.0</td>\n",
       "      <td>0.0</td>\n",
       "    </tr>\n",
       "    <tr>\n",
       "      <th>10007</th>\n",
       "      <td>0.0</td>\n",
       "      <td>0.0</td>\n",
       "      <td>0.0</td>\n",
       "      <td>0.0</td>\n",
       "    </tr>\n",
       "    <tr>\n",
       "      <th>10008</th>\n",
       "      <td>0.0</td>\n",
       "      <td>0.0</td>\n",
       "      <td>0.0</td>\n",
       "      <td>0.0</td>\n",
       "    </tr>\n",
       "    <tr>\n",
       "      <th>10009</th>\n",
       "      <td>0.0</td>\n",
       "      <td>0.0</td>\n",
       "      <td>0.0</td>\n",
       "      <td>0.0</td>\n",
       "    </tr>\n",
       "    <tr>\n",
       "      <th>10010</th>\n",
       "      <td>0.0</td>\n",
       "      <td>0.0</td>\n",
       "      <td>0.0</td>\n",
       "      <td>0.0</td>\n",
       "    </tr>\n",
       "    <tr>\n",
       "      <th>10011</th>\n",
       "      <td>0.0</td>\n",
       "      <td>0.0</td>\n",
       "      <td>0.0</td>\n",
       "      <td>0.0</td>\n",
       "    </tr>\n",
       "    <tr>\n",
       "      <th>10012</th>\n",
       "      <td>0.0</td>\n",
       "      <td>0.0</td>\n",
       "      <td>0.0</td>\n",
       "      <td>0.0</td>\n",
       "    </tr>\n",
       "    <tr>\n",
       "      <th>10013</th>\n",
       "      <td>0.0</td>\n",
       "      <td>0.0</td>\n",
       "      <td>0.0</td>\n",
       "      <td>0.0</td>\n",
       "    </tr>\n",
       "    <tr>\n",
       "      <th>10014</th>\n",
       "      <td>0.0</td>\n",
       "      <td>0.0</td>\n",
       "      <td>0.0</td>\n",
       "      <td>0.0</td>\n",
       "    </tr>\n",
       "    <tr>\n",
       "      <th>10015</th>\n",
       "      <td>0.0</td>\n",
       "      <td>0.0</td>\n",
       "      <td>0.0</td>\n",
       "      <td>0.0</td>\n",
       "    </tr>\n",
       "    <tr>\n",
       "      <th>10016</th>\n",
       "      <td>0.0</td>\n",
       "      <td>0.0</td>\n",
       "      <td>0.0</td>\n",
       "      <td>0.0</td>\n",
       "    </tr>\n",
       "    <tr>\n",
       "      <th>10017</th>\n",
       "      <td>0.0</td>\n",
       "      <td>0.0</td>\n",
       "      <td>0.0</td>\n",
       "      <td>0.0</td>\n",
       "    </tr>\n",
       "    <tr>\n",
       "      <th>10018</th>\n",
       "      <td>0.0</td>\n",
       "      <td>0.0</td>\n",
       "      <td>0.0</td>\n",
       "      <td>0.0</td>\n",
       "    </tr>\n",
       "    <tr>\n",
       "      <th>10019</th>\n",
       "      <td>0.0</td>\n",
       "      <td>0.0</td>\n",
       "      <td>0.0</td>\n",
       "      <td>0.0</td>\n",
       "    </tr>\n",
       "    <tr>\n",
       "      <th>10020</th>\n",
       "      <td>0.0</td>\n",
       "      <td>0.0</td>\n",
       "      <td>0.0</td>\n",
       "      <td>0.0</td>\n",
       "    </tr>\n",
       "    <tr>\n",
       "      <th>10021</th>\n",
       "      <td>0.0</td>\n",
       "      <td>0.0</td>\n",
       "      <td>0.0</td>\n",
       "      <td>0.0</td>\n",
       "    </tr>\n",
       "    <tr>\n",
       "      <th>10022</th>\n",
       "      <td>0.0</td>\n",
       "      <td>0.0</td>\n",
       "      <td>0.0</td>\n",
       "      <td>0.0</td>\n",
       "    </tr>\n",
       "    <tr>\n",
       "      <th>10023</th>\n",
       "      <td>0.0</td>\n",
       "      <td>0.0</td>\n",
       "      <td>0.0</td>\n",
       "      <td>0.0</td>\n",
       "    </tr>\n",
       "    <tr>\n",
       "      <th>10024</th>\n",
       "      <td>0.0</td>\n",
       "      <td>0.0</td>\n",
       "      <td>0.0</td>\n",
       "      <td>0.0</td>\n",
       "    </tr>\n",
       "    <tr>\n",
       "      <th>10025</th>\n",
       "      <td>0.0</td>\n",
       "      <td>0.0</td>\n",
       "      <td>0.0</td>\n",
       "      <td>0.0</td>\n",
       "    </tr>\n",
       "    <tr>\n",
       "      <th>10026</th>\n",
       "      <td>0.0</td>\n",
       "      <td>0.0</td>\n",
       "      <td>0.0</td>\n",
       "      <td>0.0</td>\n",
       "    </tr>\n",
       "    <tr>\n",
       "      <th>10027</th>\n",
       "      <td>0.0</td>\n",
       "      <td>0.0</td>\n",
       "      <td>0.0</td>\n",
       "      <td>0.0</td>\n",
       "    </tr>\n",
       "    <tr>\n",
       "      <th>10028</th>\n",
       "      <td>0.0</td>\n",
       "      <td>0.0</td>\n",
       "      <td>0.0</td>\n",
       "      <td>0.0</td>\n",
       "    </tr>\n",
       "    <tr>\n",
       "      <th>10029</th>\n",
       "      <td>0.0</td>\n",
       "      <td>0.0</td>\n",
       "      <td>0.0</td>\n",
       "      <td>0.0</td>\n",
       "    </tr>\n",
       "    <tr>\n",
       "      <th>...</th>\n",
       "      <td>...</td>\n",
       "      <td>...</td>\n",
       "      <td>...</td>\n",
       "      <td>...</td>\n",
       "    </tr>\n",
       "    <tr>\n",
       "      <th>10450</th>\n",
       "      <td>0.0</td>\n",
       "      <td>0.0</td>\n",
       "      <td>0.0</td>\n",
       "      <td>0.0</td>\n",
       "    </tr>\n",
       "    <tr>\n",
       "      <th>10451</th>\n",
       "      <td>0.0</td>\n",
       "      <td>0.0</td>\n",
       "      <td>0.0</td>\n",
       "      <td>0.0</td>\n",
       "    </tr>\n",
       "    <tr>\n",
       "      <th>10452</th>\n",
       "      <td>0.0</td>\n",
       "      <td>0.0</td>\n",
       "      <td>0.0</td>\n",
       "      <td>0.0</td>\n",
       "    </tr>\n",
       "    <tr>\n",
       "      <th>10453</th>\n",
       "      <td>0.0</td>\n",
       "      <td>0.0</td>\n",
       "      <td>0.0</td>\n",
       "      <td>0.0</td>\n",
       "    </tr>\n",
       "    <tr>\n",
       "      <th>10454</th>\n",
       "      <td>0.0</td>\n",
       "      <td>0.0</td>\n",
       "      <td>0.0</td>\n",
       "      <td>0.0</td>\n",
       "    </tr>\n",
       "    <tr>\n",
       "      <th>10455</th>\n",
       "      <td>0.0</td>\n",
       "      <td>0.0</td>\n",
       "      <td>0.0</td>\n",
       "      <td>0.0</td>\n",
       "    </tr>\n",
       "    <tr>\n",
       "      <th>10456</th>\n",
       "      <td>0.0</td>\n",
       "      <td>0.0</td>\n",
       "      <td>0.0</td>\n",
       "      <td>0.0</td>\n",
       "    </tr>\n",
       "    <tr>\n",
       "      <th>10457</th>\n",
       "      <td>0.0</td>\n",
       "      <td>0.0</td>\n",
       "      <td>0.0</td>\n",
       "      <td>0.0</td>\n",
       "    </tr>\n",
       "    <tr>\n",
       "      <th>10458</th>\n",
       "      <td>0.0</td>\n",
       "      <td>0.0</td>\n",
       "      <td>0.0</td>\n",
       "      <td>0.0</td>\n",
       "    </tr>\n",
       "    <tr>\n",
       "      <th>10459</th>\n",
       "      <td>0.0</td>\n",
       "      <td>0.0</td>\n",
       "      <td>0.0</td>\n",
       "      <td>0.0</td>\n",
       "    </tr>\n",
       "    <tr>\n",
       "      <th>10460</th>\n",
       "      <td>0.0</td>\n",
       "      <td>0.0</td>\n",
       "      <td>0.0</td>\n",
       "      <td>0.0</td>\n",
       "    </tr>\n",
       "    <tr>\n",
       "      <th>10461</th>\n",
       "      <td>0.0</td>\n",
       "      <td>0.0</td>\n",
       "      <td>0.0</td>\n",
       "      <td>0.0</td>\n",
       "    </tr>\n",
       "    <tr>\n",
       "      <th>10462</th>\n",
       "      <td>0.0</td>\n",
       "      <td>0.0</td>\n",
       "      <td>0.0</td>\n",
       "      <td>0.0</td>\n",
       "    </tr>\n",
       "    <tr>\n",
       "      <th>10463</th>\n",
       "      <td>0.0</td>\n",
       "      <td>0.0</td>\n",
       "      <td>0.0</td>\n",
       "      <td>0.0</td>\n",
       "    </tr>\n",
       "    <tr>\n",
       "      <th>10464</th>\n",
       "      <td>0.0</td>\n",
       "      <td>0.0</td>\n",
       "      <td>0.0</td>\n",
       "      <td>0.0</td>\n",
       "    </tr>\n",
       "    <tr>\n",
       "      <th>10465</th>\n",
       "      <td>0.0</td>\n",
       "      <td>0.0</td>\n",
       "      <td>0.0</td>\n",
       "      <td>0.0</td>\n",
       "    </tr>\n",
       "    <tr>\n",
       "      <th>10466</th>\n",
       "      <td>0.0</td>\n",
       "      <td>0.0</td>\n",
       "      <td>0.0</td>\n",
       "      <td>0.0</td>\n",
       "    </tr>\n",
       "    <tr>\n",
       "      <th>10467</th>\n",
       "      <td>0.0</td>\n",
       "      <td>0.0</td>\n",
       "      <td>0.0</td>\n",
       "      <td>0.0</td>\n",
       "    </tr>\n",
       "    <tr>\n",
       "      <th>10468</th>\n",
       "      <td>0.0</td>\n",
       "      <td>0.0</td>\n",
       "      <td>0.0</td>\n",
       "      <td>0.0</td>\n",
       "    </tr>\n",
       "    <tr>\n",
       "      <th>10469</th>\n",
       "      <td>0.0</td>\n",
       "      <td>0.0</td>\n",
       "      <td>0.0</td>\n",
       "      <td>0.0</td>\n",
       "    </tr>\n",
       "    <tr>\n",
       "      <th>10470</th>\n",
       "      <td>0.0</td>\n",
       "      <td>0.0</td>\n",
       "      <td>0.0</td>\n",
       "      <td>0.0</td>\n",
       "    </tr>\n",
       "    <tr>\n",
       "      <th>10471</th>\n",
       "      <td>0.0</td>\n",
       "      <td>0.0</td>\n",
       "      <td>0.0</td>\n",
       "      <td>0.0</td>\n",
       "    </tr>\n",
       "    <tr>\n",
       "      <th>10472</th>\n",
       "      <td>0.0</td>\n",
       "      <td>0.0</td>\n",
       "      <td>0.0</td>\n",
       "      <td>0.0</td>\n",
       "    </tr>\n",
       "    <tr>\n",
       "      <th>10473</th>\n",
       "      <td>0.0</td>\n",
       "      <td>0.0</td>\n",
       "      <td>0.0</td>\n",
       "      <td>0.0</td>\n",
       "    </tr>\n",
       "    <tr>\n",
       "      <th>10474</th>\n",
       "      <td>0.0</td>\n",
       "      <td>0.0</td>\n",
       "      <td>0.0</td>\n",
       "      <td>0.0</td>\n",
       "    </tr>\n",
       "    <tr>\n",
       "      <th>10475</th>\n",
       "      <td>0.0</td>\n",
       "      <td>0.0</td>\n",
       "      <td>0.0</td>\n",
       "      <td>0.0</td>\n",
       "    </tr>\n",
       "    <tr>\n",
       "      <th>10476</th>\n",
       "      <td>0.0</td>\n",
       "      <td>0.0</td>\n",
       "      <td>0.0</td>\n",
       "      <td>0.0</td>\n",
       "    </tr>\n",
       "    <tr>\n",
       "      <th>10477</th>\n",
       "      <td>0.0</td>\n",
       "      <td>0.0</td>\n",
       "      <td>0.0</td>\n",
       "      <td>0.0</td>\n",
       "    </tr>\n",
       "    <tr>\n",
       "      <th>10478</th>\n",
       "      <td>0.0</td>\n",
       "      <td>0.0</td>\n",
       "      <td>0.0</td>\n",
       "      <td>0.0</td>\n",
       "    </tr>\n",
       "    <tr>\n",
       "      <th>10479</th>\n",
       "      <td>0.0</td>\n",
       "      <td>0.0</td>\n",
       "      <td>0.0</td>\n",
       "      <td>0.0</td>\n",
       "    </tr>\n",
       "  </tbody>\n",
       "</table>\n",
       "<p>480 rows × 4 columns</p>\n",
       "</div>"
      ],
      "text/plain": [
       "         SA1_XTD2_XGM/DOOCS/MAIN/beamPosition.ixPos  \\\n",
       "trainId                                               \n",
       "10000                                           0.0   \n",
       "10001                                           0.0   \n",
       "10002                                           0.0   \n",
       "10003                                           0.0   \n",
       "10004                                           0.0   \n",
       "10005                                           0.0   \n",
       "10006                                           0.0   \n",
       "10007                                           0.0   \n",
       "10008                                           0.0   \n",
       "10009                                           0.0   \n",
       "10010                                           0.0   \n",
       "10011                                           0.0   \n",
       "10012                                           0.0   \n",
       "10013                                           0.0   \n",
       "10014                                           0.0   \n",
       "10015                                           0.0   \n",
       "10016                                           0.0   \n",
       "10017                                           0.0   \n",
       "10018                                           0.0   \n",
       "10019                                           0.0   \n",
       "10020                                           0.0   \n",
       "10021                                           0.0   \n",
       "10022                                           0.0   \n",
       "10023                                           0.0   \n",
       "10024                                           0.0   \n",
       "10025                                           0.0   \n",
       "10026                                           0.0   \n",
       "10027                                           0.0   \n",
       "10028                                           0.0   \n",
       "10029                                           0.0   \n",
       "...                                             ...   \n",
       "10450                                           0.0   \n",
       "10451                                           0.0   \n",
       "10452                                           0.0   \n",
       "10453                                           0.0   \n",
       "10454                                           0.0   \n",
       "10455                                           0.0   \n",
       "10456                                           0.0   \n",
       "10457                                           0.0   \n",
       "10458                                           0.0   \n",
       "10459                                           0.0   \n",
       "10460                                           0.0   \n",
       "10461                                           0.0   \n",
       "10462                                           0.0   \n",
       "10463                                           0.0   \n",
       "10464                                           0.0   \n",
       "10465                                           0.0   \n",
       "10466                                           0.0   \n",
       "10467                                           0.0   \n",
       "10468                                           0.0   \n",
       "10469                                           0.0   \n",
       "10470                                           0.0   \n",
       "10471                                           0.0   \n",
       "10472                                           0.0   \n",
       "10473                                           0.0   \n",
       "10474                                           0.0   \n",
       "10475                                           0.0   \n",
       "10476                                           0.0   \n",
       "10477                                           0.0   \n",
       "10478                                           0.0   \n",
       "10479                                           0.0   \n",
       "\n",
       "         SA1_XTD2_XGM/DOOCS/MAIN/beamPosition.iyPos  \\\n",
       "trainId                                               \n",
       "10000                                           0.0   \n",
       "10001                                           0.0   \n",
       "10002                                           0.0   \n",
       "10003                                           0.0   \n",
       "10004                                           0.0   \n",
       "10005                                           0.0   \n",
       "10006                                           0.0   \n",
       "10007                                           0.0   \n",
       "10008                                           0.0   \n",
       "10009                                           0.0   \n",
       "10010                                           0.0   \n",
       "10011                                           0.0   \n",
       "10012                                           0.0   \n",
       "10013                                           0.0   \n",
       "10014                                           0.0   \n",
       "10015                                           0.0   \n",
       "10016                                           0.0   \n",
       "10017                                           0.0   \n",
       "10018                                           0.0   \n",
       "10019                                           0.0   \n",
       "10020                                           0.0   \n",
       "10021                                           0.0   \n",
       "10022                                           0.0   \n",
       "10023                                           0.0   \n",
       "10024                                           0.0   \n",
       "10025                                           0.0   \n",
       "10026                                           0.0   \n",
       "10027                                           0.0   \n",
       "10028                                           0.0   \n",
       "10029                                           0.0   \n",
       "...                                             ...   \n",
       "10450                                           0.0   \n",
       "10451                                           0.0   \n",
       "10452                                           0.0   \n",
       "10453                                           0.0   \n",
       "10454                                           0.0   \n",
       "10455                                           0.0   \n",
       "10456                                           0.0   \n",
       "10457                                           0.0   \n",
       "10458                                           0.0   \n",
       "10459                                           0.0   \n",
       "10460                                           0.0   \n",
       "10461                                           0.0   \n",
       "10462                                           0.0   \n",
       "10463                                           0.0   \n",
       "10464                                           0.0   \n",
       "10465                                           0.0   \n",
       "10466                                           0.0   \n",
       "10467                                           0.0   \n",
       "10468                                           0.0   \n",
       "10469                                           0.0   \n",
       "10470                                           0.0   \n",
       "10471                                           0.0   \n",
       "10472                                           0.0   \n",
       "10473                                           0.0   \n",
       "10474                                           0.0   \n",
       "10475                                           0.0   \n",
       "10476                                           0.0   \n",
       "10477                                           0.0   \n",
       "10478                                           0.0   \n",
       "10479                                           0.0   \n",
       "\n",
       "         SPB_XTD9_XGM/DOOCS/MAIN/beamPosition.ixPos  \\\n",
       "trainId                                               \n",
       "10000                                           0.0   \n",
       "10001                                           0.0   \n",
       "10002                                           0.0   \n",
       "10003                                           0.0   \n",
       "10004                                           0.0   \n",
       "10005                                           0.0   \n",
       "10006                                           0.0   \n",
       "10007                                           0.0   \n",
       "10008                                           0.0   \n",
       "10009                                           0.0   \n",
       "10010                                           0.0   \n",
       "10011                                           0.0   \n",
       "10012                                           0.0   \n",
       "10013                                           0.0   \n",
       "10014                                           0.0   \n",
       "10015                                           0.0   \n",
       "10016                                           0.0   \n",
       "10017                                           0.0   \n",
       "10018                                           0.0   \n",
       "10019                                           0.0   \n",
       "10020                                           0.0   \n",
       "10021                                           0.0   \n",
       "10022                                           0.0   \n",
       "10023                                           0.0   \n",
       "10024                                           0.0   \n",
       "10025                                           0.0   \n",
       "10026                                           0.0   \n",
       "10027                                           0.0   \n",
       "10028                                           0.0   \n",
       "10029                                           0.0   \n",
       "...                                             ...   \n",
       "10450                                           0.0   \n",
       "10451                                           0.0   \n",
       "10452                                           0.0   \n",
       "10453                                           0.0   \n",
       "10454                                           0.0   \n",
       "10455                                           0.0   \n",
       "10456                                           0.0   \n",
       "10457                                           0.0   \n",
       "10458                                           0.0   \n",
       "10459                                           0.0   \n",
       "10460                                           0.0   \n",
       "10461                                           0.0   \n",
       "10462                                           0.0   \n",
       "10463                                           0.0   \n",
       "10464                                           0.0   \n",
       "10465                                           0.0   \n",
       "10466                                           0.0   \n",
       "10467                                           0.0   \n",
       "10468                                           0.0   \n",
       "10469                                           0.0   \n",
       "10470                                           0.0   \n",
       "10471                                           0.0   \n",
       "10472                                           0.0   \n",
       "10473                                           0.0   \n",
       "10474                                           0.0   \n",
       "10475                                           0.0   \n",
       "10476                                           0.0   \n",
       "10477                                           0.0   \n",
       "10478                                           0.0   \n",
       "10479                                           0.0   \n",
       "\n",
       "         SPB_XTD9_XGM/DOOCS/MAIN/beamPosition.iyPos  \n",
       "trainId                                              \n",
       "10000                                           0.0  \n",
       "10001                                           0.0  \n",
       "10002                                           0.0  \n",
       "10003                                           0.0  \n",
       "10004                                           0.0  \n",
       "10005                                           0.0  \n",
       "10006                                           0.0  \n",
       "10007                                           0.0  \n",
       "10008                                           0.0  \n",
       "10009                                           0.0  \n",
       "10010                                           0.0  \n",
       "10011                                           0.0  \n",
       "10012                                           0.0  \n",
       "10013                                           0.0  \n",
       "10014                                           0.0  \n",
       "10015                                           0.0  \n",
       "10016                                           0.0  \n",
       "10017                                           0.0  \n",
       "10018                                           0.0  \n",
       "10019                                           0.0  \n",
       "10020                                           0.0  \n",
       "10021                                           0.0  \n",
       "10022                                           0.0  \n",
       "10023                                           0.0  \n",
       "10024                                           0.0  \n",
       "10025                                           0.0  \n",
       "10026                                           0.0  \n",
       "10027                                           0.0  \n",
       "10028                                           0.0  \n",
       "10029                                           0.0  \n",
       "...                                             ...  \n",
       "10450                                           0.0  \n",
       "10451                                           0.0  \n",
       "10452                                           0.0  \n",
       "10453                                           0.0  \n",
       "10454                                           0.0  \n",
       "10455                                           0.0  \n",
       "10456                                           0.0  \n",
       "10457                                           0.0  \n",
       "10458                                           0.0  \n",
       "10459                                           0.0  \n",
       "10460                                           0.0  \n",
       "10461                                           0.0  \n",
       "10462                                           0.0  \n",
       "10463                                           0.0  \n",
       "10464                                           0.0  \n",
       "10465                                           0.0  \n",
       "10466                                           0.0  \n",
       "10467                                           0.0  \n",
       "10468                                           0.0  \n",
       "10469                                           0.0  \n",
       "10470                                           0.0  \n",
       "10471                                           0.0  \n",
       "10472                                           0.0  \n",
       "10473                                           0.0  \n",
       "10474                                           0.0  \n",
       "10475                                           0.0  \n",
       "10476                                           0.0  \n",
       "10477                                           0.0  \n",
       "10478                                           0.0  \n",
       "10479                                           0.0  \n",
       "\n",
       "[480 rows x 4 columns]"
      ]
     },
     "execution_count": 18,
     "metadata": {},
     "output_type": "execute_result"
    }
   ],
   "source": [
    "run.get_dataframe(fields=[(\"*_XGM/*\", \"*.i[xy]Pos\")])"
   ]
  },
  {
   "cell_type": "markdown",
   "metadata": {},
   "source": [
    "### Labelled arrays\n",
    "\n",
    "Data with extra dimensions can be handled as [xarray](https://xarray.pydata.org/en/stable/) labelled arrays.\n",
    "These are a wrapper around Numpy arrays with indexes which can be used to align them and select data."
   ]
  },
  {
   "cell_type": "code",
   "execution_count": 19,
   "metadata": {},
   "outputs": [
    {
     "data": {
      "text/plain": [
       "<xarray.DataArray (trainId: 480, pulseID: 1000)>\n",
       "array([[0., 0., 0., ..., 0., 0., 0.],\n",
       "       [0., 0., 0., ..., 0., 0., 0.],\n",
       "       [0., 0., 0., ..., 0., 0., 0.],\n",
       "       ...,\n",
       "       [0., 0., 0., ..., 0., 0., 0.],\n",
       "       [0., 0., 0., ..., 0., 0., 0.],\n",
       "       [0., 0., 0., ..., 0., 0., 0.]], dtype=float32)\n",
       "Coordinates:\n",
       "  * trainId  (trainId) uint64 10000 10001 10002 10003 ... 10477 10478 10479\n",
       "Dimensions without coordinates: pulseID"
      ]
     },
     "execution_count": 19,
     "metadata": {},
     "output_type": "execute_result"
    }
   ],
   "source": [
    "xtd2_intensity = run.get_array('SA1_XTD2_XGM/DOOCS/MAIN:output', 'data.intensityTD', extra_dims=['pulseID'])\n",
    "xtd2_intensity"
   ]
  },
  {
   "cell_type": "markdown",
   "metadata": {},
   "source": [
    "Here's a brief example of using xarray to align the data and select by train ID. See the [examples in the xarray docs](https://xarray.pydata.org/en/stable/examples.html) for more on what it can do.\n",
    "\n",
    "In this example data, all the data sources have the same range of train IDs, so aligning them doesn't change anything. In real data, devices may miss some trains that other devices did record."
   ]
  },
  {
   "cell_type": "code",
   "execution_count": 20,
   "metadata": {},
   "outputs": [
    {
     "data": {
      "text/plain": [
       "<xarray.DataArray (trainId: 3, pulseID: 1000)>\n",
       "array([[0., 0., 0., ..., 0., 0., 0.],\n",
       "       [0., 0., 0., ..., 0., 0., 0.],\n",
       "       [0., 0., 0., ..., 0., 0., 0.]], dtype=float32)\n",
       "Coordinates:\n",
       "  * trainId  (trainId) uint64 10004 10005 10006\n",
       "Dimensions without coordinates: pulseID"
      ]
     },
     "execution_count": 20,
     "metadata": {},
     "output_type": "execute_result"
    }
   ],
   "source": [
    "import xarray as xr\n",
    "xtd9_intensity = run.get_array('SPB_XTD9_XGM/DOOCS/MAIN:output', 'data.intensityTD', extra_dims=['pulseID'])\n",
    "\n",
    "# Align two arrays, keep only trains which they both have data for:\n",
    "xtd2_intensity, xtd9_intensity = xr.align(xtd2_intensity, xtd9_intensity, join='inner')\n",
    "\n",
    "# Select data for a single train by train ID:\n",
    "xtd2_intensity.sel(trainId=10004)\n",
    "\n",
    "# Select data from a range of train IDs.\n",
    "# This includes the end value, unlike normal Python indexing\n",
    "xtd2_intensity.loc[10004:10006]"
   ]
  },
  {
   "cell_type": "markdown",
   "metadata": {},
   "source": [
    "You can also specify a region of interest from an array to load only part of the data:"
   ]
  },
  {
   "cell_type": "code",
   "execution_count": 21,
   "metadata": {},
   "outputs": [
    {
     "name": "stdout",
     "output_type": "stream",
     "text": [
      "Whole array shape: (5, 255, 1024)\n",
      "ROI array shape: (5, 100, 512)\n"
     ]
    }
   ],
   "source": [
    "from karabo_data import by_index\n",
    "\n",
    "# Select the first 5 trains in this run:\n",
    "sel = run.select_trains(by_index[:5])\n",
    "\n",
    "# Get the whole of this array:\n",
    "arr = sel.get_array('FXE_XAD_GEC/CAM/CAMERA:daqOutput', 'data.image.pixels')\n",
    "print(\"Whole array shape:\", arr.shape)\n",
    "\n",
    "# Get a region of interest\n",
    "arr2 = sel.get_array('FXE_XAD_GEC/CAM/CAMERA:daqOutput', 'data.image.pixels', roi=by_index[100:200, :512])\n",
    "print(\"ROI array shape:\", arr2.shape)"
   ]
  },
  {
   "cell_type": "markdown",
   "metadata": {},
   "source": [
    "## General information"
   ]
  },
  {
   "cell_type": "markdown",
   "metadata": {},
   "source": [
    "`karabo_data` provides a few ways to get general information about what's in data files. First, from Python code:"
   ]
  },
  {
   "cell_type": "code",
   "execution_count": 22,
   "metadata": {
    "scrolled": false
   },
   "outputs": [
    {
     "name": "stdout",
     "output_type": "stream",
     "text": [
      "# of trains:    480\n",
      "Duration:       0:00:47.900000\n",
      "First train ID: 10000\n",
      "Last train ID:  10479\n",
      "\n",
      "16 detector modules (FXE_DET_LPD1M-1)\n",
      "  e.g. module FXE_DET_LPD1M-1 0 : 256 x 256 pixels\n",
      "  128 frames per train, 61440 total frames\n",
      "\n",
      "4 instrument sources (excluding detectors):\n",
      "  - FXE_XAD_GEC/CAM/CAMERA:daqOutput\n",
      "  - FXE_XAD_GEC/CAM/CAMERA_NODATA:daqOutput\n",
      "  - SA1_XTD2_XGM/DOOCS/MAIN:output\n",
      "  - SPB_XTD9_XGM/DOOCS/MAIN:output\n",
      "\n",
      "4 control sources:\n",
      "  - FXE_XAD_GEC/CAM/CAMERA\n",
      "  - FXE_XAD_GEC/CAM/CAMERA_NODATA\n",
      "  - SA1_XTD2_XGM/DOOCS/MAIN\n",
      "  - SPB_XTD9_XGM/DOOCS/MAIN\n",
      "\n"
     ]
    }
   ],
   "source": [
    "run.info()"
   ]
  },
  {
   "cell_type": "code",
   "execution_count": 23,
   "metadata": {},
   "outputs": [
    {
     "data": {
      "text/plain": [
       "{'dims': (256, 256), 'frames_per_train': 128, 'total_frames': 61440}"
      ]
     },
     "execution_count": 23,
     "metadata": {},
     "output_type": "execute_result"
    }
   ],
   "source": [
    "run.detector_info('FXE_DET_LPD1M-1/DET/0CH0:xtdf')"
   ]
  },
  {
   "cell_type": "markdown",
   "metadata": {},
   "source": [
    "The `lsxfel` command provides similar information at the command line:"
   ]
  },
  {
   "cell_type": "code",
   "execution_count": 24,
   "metadata": {},
   "outputs": [
    {
     "name": "stdout",
     "output_type": "stream",
     "text": [
      "RAW-R0450-LPD00-S00000.h5 : Raw detector data from LPD module 00\r\n",
      "480 trains\r\n",
      "\r\n",
      "256 × 256 pixels\r\n",
      "128 frames per train, 61440 total\r\n"
     ]
    }
   ],
   "source": [
    "!lsxfel fxe_example_run/RAW-R0450-LPD00-S00000.h5"
   ]
  },
  {
   "cell_type": "code",
   "execution_count": 25,
   "metadata": {},
   "outputs": [
    {
     "name": "stdout",
     "output_type": "stream",
     "text": [
      "RAW-R0450-DA01-S00000.h5 : Aggregated data\n",
      "400 trains\n",
      "\n",
      "4 instrument sources\n",
      "  -  FXE_XAD_GEC/CAM/CAMERA:daqOutput\n",
      "  -  FXE_XAD_GEC/CAM/CAMERA_NODATA:daqOutput\n",
      "  -  SA1_XTD2_XGM/DOOCS/MAIN:output\n",
      "  -  SPB_XTD9_XGM/DOOCS/MAIN:output\n",
      "\n",
      "4 control sources\n",
      "  -  FXE_XAD_GEC/CAM/CAMERA\n",
      "  -  FXE_XAD_GEC/CAM/CAMERA_NODATA\n",
      "  -  SA1_XTD2_XGM/DOOCS/MAIN\n",
      "  -  SPB_XTD9_XGM/DOOCS/MAIN\n",
      "\n"
     ]
    }
   ],
   "source": [
    "!lsxfel fxe_example_run/RAW-R0450-DA01-S00000.h5"
   ]
  },
  {
   "cell_type": "code",
   "execution_count": 26,
   "metadata": {},
   "outputs": [
    {
     "name": "stdout",
     "output_type": "stream",
     "text": [
      "fxe_example_run : Run directory\n",
      "\n",
      "# of trains:    480\n",
      "Duration:       0:00:47.900000\n",
      "First train ID: 10000\n",
      "Last train ID:  10479\n",
      "\n",
      "16 detector modules (FXE_DET_LPD1M-1)\n",
      "  e.g. module FXE_DET_LPD1M-1 0 : 256 x 256 pixels\n",
      "  128 frames per train, 61440 total frames\n",
      "\n",
      "4 instrument sources (excluding detectors):\n",
      "  - FXE_XAD_GEC/CAM/CAMERA:daqOutput\n",
      "  - FXE_XAD_GEC/CAM/CAMERA_NODATA:daqOutput\n",
      "  - SA1_XTD2_XGM/DOOCS/MAIN:output\n",
      "  - SPB_XTD9_XGM/DOOCS/MAIN:output\n",
      "\n",
      "4 control sources:\n",
      "  - FXE_XAD_GEC/CAM/CAMERA\n",
      "  - FXE_XAD_GEC/CAM/CAMERA_NODATA\n",
      "  - SA1_XTD2_XGM/DOOCS/MAIN\n",
      "  - SPB_XTD9_XGM/DOOCS/MAIN\n",
      "\n"
     ]
    }
   ],
   "source": [
    "!lsxfel fxe_example_run"
   ]
  }
 ],
 "metadata": {
  "kernelspec": {
   "display_name": "Python 3",
   "language": "python",
   "name": "python3"
  },
  "language_info": {
   "codemirror_mode": {
    "name": "ipython",
    "version": 3
   },
   "file_extension": ".py",
   "mimetype": "text/x-python",
   "name": "python",
   "nbconvert_exporter": "python",
   "pygments_lexer": "ipython3",
   "version": "3.7.2"
  }
 },
 "nbformat": 4,
 "nbformat_minor": 2
}
